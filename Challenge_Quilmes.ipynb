{
  "nbformat": 4,
  "nbformat_minor": 0,
  "metadata": {
    "colab": {
      "name": "Challenge_Quilmes.ipynb",
      "provenance": [],
      "collapsed_sections": [
        "zqEVea5qMdNq",
        "RzO8w1ysoR5P",
        "wR2b6spSeFFo",
        "AcMZHjuBeJ2V",
        "R2NB1AAGearY",
        "9-BQxdGiei0O",
        "RtKOGJcURaMS"
      ]
    },
    "kernelspec": {
      "name": "python3",
      "display_name": "Python 3"
    }
  },
  "cells": [
    {
      "cell_type": "markdown",
      "source": [
        "<a href=\"https://colab.research.google.com/github/JonatanSiracusa/Challenge_Quilmes_Seeds/blob/main/Challenge_Quilmes.ipynb\" \n",
        "target=\"_parent\"><img src=\"https://colab.research.google.com/assets/colab-badge.svg\" alt=\"Open In Colab\"/></a>"
      ],
      "metadata": {
        "id": "CF4c7KU9hoQL"
      }
    },
    {
      "cell_type": "markdown",
      "metadata": {
        "id": "K1GZdTu_qma5",
        "colab_type": "toc"
      },
      "source": [
        ">[Challenge Técnico QUILMES - SALES FINANCE SQUAD](#scrollTo=zqEVea5qMdNq)\n",
        "\n",
        ">>[Contexto de negocio](#scrollTo=_6UF_L7PMkx4)\n",
        "\n",
        ">>[Aclaraciones](#scrollTo=i0TlPwjRcSSU)\n",
        "\n",
        ">>[Tablas](#scrollTo=WESYFzCwcSMg)\n",
        "\n",
        ">>[Variables](#scrollTo=Lwq2-IwadOcp)\n",
        "\n",
        ">>[Indicaciones](#scrollTo=ohOr-JZUdOYK)\n",
        "\n",
        ">>[PROBLEMA a resolver](#scrollTo=LcxVTa8jdOQ9)\n",
        "\n",
        ">>[SOLUCIÓN buscada](#scrollTo=7RBLq4_hfqox)\n",
        "\n",
        ">[DESARROLLO de la solución](#scrollTo=IvjWGpi8f9X-)\n",
        "\n",
        ">>[Inicio: carga de librerías, definición de Funciones y variables globales](#scrollTo=RzO8w1ysoR5P)\n",
        "\n",
        ">>[Carga de datos](#scrollTo=N2ZT3qWIY_5c)\n",
        "\n",
        ">>[Limpieza de datos](#scrollTo=KAjjl-EDoYZ_)\n",
        "\n",
        ">>>[Verificamos faltantes y nulos](#scrollTo=jxVDLo43d3qO)\n",
        "\n",
        ">>>>[DF Clientes](#scrollTo=wR2b6spSeFFo)\n",
        "\n",
        ">>>>[DF Transacciones](#scrollTo=AcMZHjuBeJ2V)\n",
        "\n",
        ">>>>[DF Limites y plazos](#scrollTo=R2NB1AAGearY)\n",
        "\n",
        ">>>>[DF Deuda](#scrollTo=9-BQxdGiei0O)\n",
        "\n",
        ">>[Transformación de datos](#scrollTo=1Ht6Zro3oje8)\n",
        "\n",
        ">>>[Conversión de tipo de datos](#scrollTo=7cf2gDDvOzpE)\n",
        "\n",
        ">>>[Análisis de datos duplicados](#scrollTo=RtKOGJcURaMS)\n",
        "\n",
        ">>>[Creación de los DF necesarios para el análisis](#scrollTo=AQgG_5vJSjrX)\n",
        "\n",
        ">>[Análisis](#scrollTo=2vs5OQgxZURk)\n",
        "\n",
        ">>>[Seleccionamos nuestra muestra](#scrollTo=x060Yk9m-jwf)\n",
        "\n",
        ">>>[Creamos un nuevo DataFrame de Variaciones Porcentuales y sus correspondientes Acumulados.](#scrollTo=3EQRv8bUNeuJ)\n",
        "\n",
        ">>[Visualizaciones](#scrollTo=-oZALeyloq56)\n",
        "\n",
        ">>>[Distribución de las Variaciones Porcentuales Intradiarias](#scrollTo=PxIgyv58YwNG)\n",
        "\n",
        ">>>>[Promedios y Medidas de Dispersión](#scrollTo=Bb5clEyFRmd3)\n",
        "\n",
        ">>>>[Distribución de ocurrencias](#scrollTo=LWMn7R74Zke-)\n",
        "\n",
        ">[Conclusiones](#scrollTo=q7ppUWSYpA7A)\n",
        "\n",
        ">>[Rango Porcentual Intradiario Total](#scrollTo=q7ppUWSYpA7A)\n",
        "\n",
        ">>[Información útil para el Trader](#scrollTo=q7ppUWSYpA7A)\n",
        "\n"
      ]
    },
    {
      "cell_type": "markdown",
      "source": [
        "# Challenge Técnico QUILMES - SALES FINANCE SQUAD\n",
        "\n",
        "Prueba técnica a ser resuelta por ANGEL JONATÁN SIRACUSA.\n",
        "\n",
        "Plazo límite de entrega: viernes 22/7/2022, a las 17hs."
      ],
      "metadata": {
        "id": "zqEVea5qMdNq"
      }
    },
    {
      "cell_type": "markdown",
      "source": [
        "## Contexto de negocio\n",
        "\n",
        "\n",
        "* La empresa corresponde a la industria de consumo masivo y sigue un marco de negocio B2B (Business-to-Business).\n",
        "\n",
        "* La empresa vende sus productos a sus distintos clientes (ej. tiendas, bares, restoranes, mayoristas) bajo distintas modalidades de pago: al contado y con crédito.\n",
        "\n",
        "* La modalidad de pago con crédito es similar al uso de una cuenta corriente.\n",
        "\n",
        "* Los clientes con crédito poseen: un límite disponible, un plazo de pago de entre 7 y 30 días en general, y no se les cobra una tasa de interés.\n",
        "\n",
        "* El objetivo de ofrecer crédito es impulsar las ventas, de forma que ningún cliente deje de comprar por una falta temporal de efectivo.\n",
        "\n"
      ],
      "metadata": {
        "id": "_6UF_L7PMkx4"
      }
    },
    {
      "cell_type": "markdown",
      "source": [
        "## Aclaraciones\n",
        "\n",
        "\n",
        "* Durante un mismo mes, los clientes pueden usar y repagar todo o parte del crédito que van usando. Por esta razón, el total de compras pagadas con crédito puede ser mayor al límite disponible y su ratio de uso (crédito / total) puede ser mayor a 100%; es decir, el cliente “rota” su límite disponible.\n",
        "\n",
        "* Un cliente está en mora si tiene un saldo deudor o deuda mayor a cero en un período de tiempo (diferencia entre fecha de pago y fecha de vencimiento) también mayor a cero. Los casos en los que hay montos o períodos negativos corresponden con pagos por adelantado.\n"
      ],
      "metadata": {
        "id": "i0TlPwjRcSSU"
      }
    },
    {
      "cell_type": "markdown",
      "source": [
        "## Tablas\n",
        "\n",
        "\n",
        "* **Clientes**: contiene el subcanal y la fecha de alta de los clientes\n",
        "\n",
        "* **Transacciones**: contiene información sobre las compras que hizo el cliente durante el mes y la forma de pago\n",
        "\n",
        "* **Límites y plazos**: contiene los límites y plazos, máximos durante el mes y a fin de mes (pueden cambiar durante el mes)\n",
        "\n",
        "* **Deuda**: contiene los montos y días de la deuda, a final de cada mes\n"
      ],
      "metadata": {
        "id": "WESYFzCwcSMg"
      }
    },
    {
      "cell_type": "markdown",
      "source": [
        "## Variables\n",
        "\n",
        "\n",
        "Variable | Descripción\n",
        "------------------|---\n",
        "id_cliente |\tIdentificador único del cliente\n",
        "mes |\tMes\n",
        "compras_contado |\tCompras, monto pagado al contado\n",
        "compras_credito |\tCompras, monto pagado a crédito\n",
        "compras_total |\tCompras, monto total\n",
        "limite_maximo |\tLímite de crédito, máximo durante el mes\n",
        "plazo_maximo |\tPlazo de pago, máximo durante el mes (en días)\n",
        "limite_findemes |\tLímite de crédito vigente a fin de mes\n",
        "plazo_findemes |\tPlazo de pago, vigente a fin de mes (en días)\n",
        "n_compras_total |\tCantidad de compras, total\n",
        "n_sucursales |\tCantidad de sucursales del cliente que hicieron compras en el mes\n",
        "diasatraso_findemes |\tCantidad de días entre las fechas de pago y de vencimiento (máximo, a fin de mes)\n",
        "deuda_findemes |\tMonto de la deuda a fin de mes\n",
        "subcanal |\tSubcanal al que pertenece el cliente\n",
        "mes_alta |\tMes en el que se dio de alta el cliente\n",
        "\n"
      ],
      "metadata": {
        "id": "Lwq2-IwadOcp"
      }
    },
    {
      "cell_type": "markdown",
      "source": [
        "## Indicaciones\n",
        "\n",
        "* En un notebook de Python integrar las distintas tablas, por cliente o cliente-mes según corresponda.\n",
        "\n",
        "* Tomar el último mes disponible en los datos y tomar sólo los clientes que tienen un límite y plazo mayor a cero a fin de mes.\n",
        "\n",
        "* Generar un filtro para obtener los mejores clientes para la recomendación, en base a las siguientes reglas:\n",
        "  * Clientes cuyo uso en el último mes (o los últimos 3 meses) sea mayor a 80%.\n",
        "  * Clientes que no tengan mora (monto de la deuda positivo y días con atraso mayores a cero) al final del mes.\n",
        "  * Rankear los clientes con algún criterio (ej. Compras totales, crecimiento mensual de las compras) y tomar los primeros 25 en base a ese filtro. Se podrían generar nuevas variables para esto, a partir de las contenidas en las tablas originales.\n",
        "  * A estos clientes se les otorgará un incremento en el límite de crédito el mes siguiente.\n",
        "\n",
        "* Construir un entregable en formato Excel, cuyo destinatario es el cliente interno (el negocio), con las principales variables de los clientes a los que les recomienda incrementar el límite (ej. Compras, uso del crédito, etc.), y una nota breve en otra solapa con las variables que se eligieron.\n",
        "\n",
        "* (Opcional) Probar alguna otra técnica de clustering para identificar los mejores clientes.\n"
      ],
      "metadata": {
        "id": "ohOr-JZUdOYK"
      }
    },
    {
      "cell_type": "markdown",
      "source": [
        "## PROBLEMA a resolver\n",
        "\n",
        "* La empresa tiene el objetivo de expandir el uso del crédito, impulsando las ventas, orientando el crédito a los **mejores clientes** (los que muestren un mayor uso del límite disponible y menor riesgo de no repagar la deuda o repagar después del vencimiento).\n",
        "\n",
        "* El negocio necesita entender, de los clientes con crédito, qué clientes son mejores para otorgarles incrementos en sus límites (en base a los criterios del primer punto). \n"
      ],
      "metadata": {
        "id": "LcxVTa8jdOQ9"
      }
    },
    {
      "cell_type": "markdown",
      "source": [
        "## SOLUCIÓN buscada\n",
        "* En base a los datasets disponibles, responder las preguntas de negocios planteadas."
      ],
      "metadata": {
        "id": "7RBLq4_hfqox"
      }
    },
    {
      "cell_type": "markdown",
      "source": [
        "# DESARROLLO de la solución\n",
        "\n",
        "El siguiente desarrollo ha sido analizado y realizado por Angel Jonatán Siracusa, para **Cervecería y Maltería Quilmes-ARG** y **Seeds-Platform**.\n",
        "\n",
        "\n",
        "Los archivos necesarios para el presente desarrollo se encuentran alojados en una carpeta con acceso restingido solo a quienes conozcan el siguiente link: https://drive.google.com/drive/folders/1ptd_SxsW8IbIStMPOJC3ZBWY_Gs9KqFU?usp=sharing\n",
        "\n",
        "Para que sea posible ejecutar el presente notebook, será necesario crear una carpeta de Google Drive en \"Mi unidad\" llamada \"Challenges\", y dentro una carpeta llamada \"Challenge_Quilmes_Seeds\". Luego alojar en la última carpeta los archivos compartidos anteriormente.\n",
        "\n",
        "\n",
        "\n",
        "\n",
        "LinkedIn: <a href=\"https://www.linkedin.com/in/ajsiracusa/\" \n",
        "target=\"_parent\">/ajsiracusa</a>\n",
        "\n",
        "GitHub: <a href=\"https://github.com/JonatanSiracusa\" \n",
        "target=\"_parent\">@JonatanSiracusa</a>\n",
        "\n",
        "Tw: <a href=\"https://twitter.com/JonaSiracusaDev\" \n",
        "target=\"_parent\">@JonaSiracusaDev</a>\n",
        "\n",
        "IG: @JonaSiracusaDev"
      ],
      "metadata": {
        "id": "IvjWGpi8f9X-"
      }
    },
    {
      "cell_type": "markdown",
      "metadata": {
        "id": "RzO8w1ysoR5P"
      },
      "source": [
        "## Inicio: carga de librerías, definición de Funciones y variables globales"
      ]
    },
    {
      "cell_type": "code",
      "metadata": {
        "id": "CxWDctuiiZGX",
        "colab": {
          "base_uri": "https://localhost:8080/"
        },
        "outputId": "954da14c-3cda-449b-ec5c-c50c690ff10b"
      },
      "source": [
        "# Importamos las librerías que se van a necesitar\n",
        "from google.colab import drive\n",
        "import pandas as pd\n",
        "import numpy as np\n",
        "from numpy import log as ln\n",
        "from scipy import stats\n",
        "from scipy.stats import norm\n",
        "import statistics as st\n",
        "\n",
        "\n",
        "# Declaramos las variables globales\n",
        "DIAS_V_H = 40\n",
        "RUEDAS_POR_ANIO = 252\n",
        "FECHA_INICIO_MUESTRA = '1997-01-01'\n",
        "FECHA_FIN_MUESTRA = '2099-01-01'\n",
        "NIVEL_SIGNIFICACION = 0.05\n",
        "FECHA_VENC_EJERCICIOS = ['2022-04-15', '2022-06-17']\n",
        "\n",
        "\n",
        "# Montamos Google Drive\n",
        "drive.mount('/content/drive/')\n",
        "\n",
        "\n",
        "# Escribimos las funciones que serán usadas durante el estudio:\n",
        "\n",
        "def tomar_muestra_df(df, fecha_inicio, fecha_fin='2099-12-31'):\n",
        "  \"\"\" Esta funcion toma las filas del DF que se encuentran entre fecha_inicio y\n",
        "      fecha_fin\n",
        "  \"\"\"\n",
        "\n",
        "  mask = ((df['fecha_date'] >= fecha_inicio) & (df['fecha_date'] <= fecha_fin))\n",
        "  return df.loc[mask]\n",
        "\n",
        "\n",
        "def copiar_cols_df(df_orig, df_nuevo, cols_orig, cols_nuevo):\n",
        "  \"\"\" Esta funcion toma la columna del primer DF y copia todas las filas de la columna\n",
        "      en el segundo DF.\n",
        "      El parametro \"cols_orig\" y \"cols_nuevo\" puede ser una lista de columnas usando enteros.\n",
        "\n",
        "      Args:\n",
        "        df_orig (pandas object): el DF del cual se quiere copiar.\n",
        "        df_nuevo (pandas object): el DF al cual se quieren copiar las columnas.\n",
        "        cols_orig (int): es una lista con int que indican la columna que se quiere copiar.\n",
        "        cols_nuevo (int): es una lista con int que indica la columna donde se quiere copiar.\n",
        "\n",
        "      Returns:\n",
        "        df_nuevo (pandas object): Retorna un DF con las  nuevas columnas copiadas.\n",
        "  \"\"\"\n",
        "\n",
        "  for elem in range(0, len(cols_orig)):\n",
        "    df_nuevo.iloc[:, cols_nuevo[elem]] = df_orig.iloc[ :, cols_orig[elem]]\n",
        "  \n",
        "  return df_nuevo\n",
        "\n"
      ],
      "execution_count": 2,
      "outputs": [
        {
          "output_type": "stream",
          "name": "stdout",
          "text": [
            "Mounted at /content/drive/\n"
          ]
        }
      ]
    },
    {
      "cell_type": "markdown",
      "source": [
        "## Carga de datos"
      ],
      "metadata": {
        "id": "N2ZT3qWIY_5c"
      }
    },
    {
      "cell_type": "code",
      "source": [
        "# Almacenamos las rutas de acceso a los csv\n",
        "clientes_path = '/content/drive/MyDrive/Challenges/Challenge_Quilmes_Seeds/clientes.csv'\n",
        "transacciones_path = '/content/drive/MyDrive/Challenges/Challenge_Quilmes_Seeds/transacciones.csv'\n",
        "limites_y_plazos_path = '/content/drive/MyDrive/Challenges/Challenge_Quilmes_Seeds/limitesyplazos.csv'\n",
        "deuda_path = '/content/drive/MyDrive/Challenges/Challenge_Quilmes_Seeds/deuda.csv'\n",
        "\n",
        "# Cargamos los datos\n",
        "clientes_df = pd.read_csv(clientes_path)\n",
        "transacciones_df = pd.read_csv(transacciones_path)\n",
        "limites_y_plazos_df = pd.read_csv(limites_y_plazos_path)\n",
        "deuda_df = pd.read_csv(deuda_path)"
      ],
      "metadata": {
        "id": "mva0CECqY_Rq"
      },
      "execution_count": 3,
      "outputs": []
    },
    {
      "cell_type": "markdown",
      "metadata": {
        "id": "KAjjl-EDoYZ_"
      },
      "source": [
        "## Limpieza de datos"
      ]
    },
    {
      "cell_type": "markdown",
      "source": [
        "###Verificamos faltantes y nulos"
      ],
      "metadata": {
        "id": "jxVDLo43d3qO"
      }
    },
    {
      "cell_type": "markdown",
      "source": [
        "####DF Clientes\n",
        "\n",
        "* No hay nulos, ni faltantes.\n",
        "* Analizar si es necesario cambiar el tipo de dato de la columna \"mes_alta\"."
      ],
      "metadata": {
        "id": "wR2b6spSeFFo"
      }
    },
    {
      "cell_type": "code",
      "source": [
        "clientes_df.head()"
      ],
      "metadata": {
        "colab": {
          "base_uri": "https://localhost:8080/",
          "height": 0
        },
        "id": "4rVnJ-f7e4lE",
        "outputId": "a1cb6726-27d2-4a9e-855b-f81a6fa45a20"
      },
      "execution_count": 4,
      "outputs": [
        {
          "output_type": "execute_result",
          "data": {
            "text/plain": [
              "   id_cliente subcanal    mes_alta\n",
              "0        3823        C  2004-11-01\n",
              "1        5813        C  2004-11-01\n",
              "2        5999        C  2004-11-01\n",
              "3        8425        B  2000-10-01\n",
              "4        9993        D  1998-07-01"
            ],
            "text/html": [
              "\n",
              "  <div id=\"df-1c9ba1a0-57d0-4c11-bd58-d360564f615d\">\n",
              "    <div class=\"colab-df-container\">\n",
              "      <div>\n",
              "<style scoped>\n",
              "    .dataframe tbody tr th:only-of-type {\n",
              "        vertical-align: middle;\n",
              "    }\n",
              "\n",
              "    .dataframe tbody tr th {\n",
              "        vertical-align: top;\n",
              "    }\n",
              "\n",
              "    .dataframe thead th {\n",
              "        text-align: right;\n",
              "    }\n",
              "</style>\n",
              "<table border=\"1\" class=\"dataframe\">\n",
              "  <thead>\n",
              "    <tr style=\"text-align: right;\">\n",
              "      <th></th>\n",
              "      <th>id_cliente</th>\n",
              "      <th>subcanal</th>\n",
              "      <th>mes_alta</th>\n",
              "    </tr>\n",
              "  </thead>\n",
              "  <tbody>\n",
              "    <tr>\n",
              "      <th>0</th>\n",
              "      <td>3823</td>\n",
              "      <td>C</td>\n",
              "      <td>2004-11-01</td>\n",
              "    </tr>\n",
              "    <tr>\n",
              "      <th>1</th>\n",
              "      <td>5813</td>\n",
              "      <td>C</td>\n",
              "      <td>2004-11-01</td>\n",
              "    </tr>\n",
              "    <tr>\n",
              "      <th>2</th>\n",
              "      <td>5999</td>\n",
              "      <td>C</td>\n",
              "      <td>2004-11-01</td>\n",
              "    </tr>\n",
              "    <tr>\n",
              "      <th>3</th>\n",
              "      <td>8425</td>\n",
              "      <td>B</td>\n",
              "      <td>2000-10-01</td>\n",
              "    </tr>\n",
              "    <tr>\n",
              "      <th>4</th>\n",
              "      <td>9993</td>\n",
              "      <td>D</td>\n",
              "      <td>1998-07-01</td>\n",
              "    </tr>\n",
              "  </tbody>\n",
              "</table>\n",
              "</div>\n",
              "      <button class=\"colab-df-convert\" onclick=\"convertToInteractive('df-1c9ba1a0-57d0-4c11-bd58-d360564f615d')\"\n",
              "              title=\"Convert this dataframe to an interactive table.\"\n",
              "              style=\"display:none;\">\n",
              "        \n",
              "  <svg xmlns=\"http://www.w3.org/2000/svg\" height=\"24px\"viewBox=\"0 0 24 24\"\n",
              "       width=\"24px\">\n",
              "    <path d=\"M0 0h24v24H0V0z\" fill=\"none\"/>\n",
              "    <path d=\"M18.56 5.44l.94 2.06.94-2.06 2.06-.94-2.06-.94-.94-2.06-.94 2.06-2.06.94zm-11 1L8.5 8.5l.94-2.06 2.06-.94-2.06-.94L8.5 2.5l-.94 2.06-2.06.94zm10 10l.94 2.06.94-2.06 2.06-.94-2.06-.94-.94-2.06-.94 2.06-2.06.94z\"/><path d=\"M17.41 7.96l-1.37-1.37c-.4-.4-.92-.59-1.43-.59-.52 0-1.04.2-1.43.59L10.3 9.45l-7.72 7.72c-.78.78-.78 2.05 0 2.83L4 21.41c.39.39.9.59 1.41.59.51 0 1.02-.2 1.41-.59l7.78-7.78 2.81-2.81c.8-.78.8-2.07 0-2.86zM5.41 20L4 18.59l7.72-7.72 1.47 1.35L5.41 20z\"/>\n",
              "  </svg>\n",
              "      </button>\n",
              "      \n",
              "  <style>\n",
              "    .colab-df-container {\n",
              "      display:flex;\n",
              "      flex-wrap:wrap;\n",
              "      gap: 12px;\n",
              "    }\n",
              "\n",
              "    .colab-df-convert {\n",
              "      background-color: #E8F0FE;\n",
              "      border: none;\n",
              "      border-radius: 50%;\n",
              "      cursor: pointer;\n",
              "      display: none;\n",
              "      fill: #1967D2;\n",
              "      height: 32px;\n",
              "      padding: 0 0 0 0;\n",
              "      width: 32px;\n",
              "    }\n",
              "\n",
              "    .colab-df-convert:hover {\n",
              "      background-color: #E2EBFA;\n",
              "      box-shadow: 0px 1px 2px rgba(60, 64, 67, 0.3), 0px 1px 3px 1px rgba(60, 64, 67, 0.15);\n",
              "      fill: #174EA6;\n",
              "    }\n",
              "\n",
              "    [theme=dark] .colab-df-convert {\n",
              "      background-color: #3B4455;\n",
              "      fill: #D2E3FC;\n",
              "    }\n",
              "\n",
              "    [theme=dark] .colab-df-convert:hover {\n",
              "      background-color: #434B5C;\n",
              "      box-shadow: 0px 1px 3px 1px rgba(0, 0, 0, 0.15);\n",
              "      filter: drop-shadow(0px 1px 2px rgba(0, 0, 0, 0.3));\n",
              "      fill: #FFFFFF;\n",
              "    }\n",
              "  </style>\n",
              "\n",
              "      <script>\n",
              "        const buttonEl =\n",
              "          document.querySelector('#df-1c9ba1a0-57d0-4c11-bd58-d360564f615d button.colab-df-convert');\n",
              "        buttonEl.style.display =\n",
              "          google.colab.kernel.accessAllowed ? 'block' : 'none';\n",
              "\n",
              "        async function convertToInteractive(key) {\n",
              "          const element = document.querySelector('#df-1c9ba1a0-57d0-4c11-bd58-d360564f615d');\n",
              "          const dataTable =\n",
              "            await google.colab.kernel.invokeFunction('convertToInteractive',\n",
              "                                                     [key], {});\n",
              "          if (!dataTable) return;\n",
              "\n",
              "          const docLinkHtml = 'Like what you see? Visit the ' +\n",
              "            '<a target=\"_blank\" href=https://colab.research.google.com/notebooks/data_table.ipynb>data table notebook</a>'\n",
              "            + ' to learn more about interactive tables.';\n",
              "          element.innerHTML = '';\n",
              "          dataTable['output_type'] = 'display_data';\n",
              "          await google.colab.output.renderOutput(dataTable, element);\n",
              "          const docLink = document.createElement('div');\n",
              "          docLink.innerHTML = docLinkHtml;\n",
              "          element.appendChild(docLink);\n",
              "        }\n",
              "      </script>\n",
              "    </div>\n",
              "  </div>\n",
              "  "
            ]
          },
          "metadata": {},
          "execution_count": 4
        }
      ]
    },
    {
      "cell_type": "code",
      "source": [
        "clientes_df.info()"
      ],
      "metadata": {
        "colab": {
          "base_uri": "https://localhost:8080/"
        },
        "id": "T2P3qJiJqQ3x",
        "outputId": "b80b6458-e65d-4ee7-fe15-3fb085f0e19f"
      },
      "execution_count": 5,
      "outputs": [
        {
          "output_type": "stream",
          "name": "stdout",
          "text": [
            "<class 'pandas.core.frame.DataFrame'>\n",
            "RangeIndex: 42995 entries, 0 to 42994\n",
            "Data columns (total 3 columns):\n",
            " #   Column      Non-Null Count  Dtype \n",
            "---  ------      --------------  ----- \n",
            " 0   id_cliente  42995 non-null  int64 \n",
            " 1   subcanal    42995 non-null  object\n",
            " 2   mes_alta    42995 non-null  object\n",
            "dtypes: int64(1), object(2)\n",
            "memory usage: 1007.8+ KB\n"
          ]
        }
      ]
    },
    {
      "cell_type": "code",
      "source": [
        "clientes_df.isnull().sum()"
      ],
      "metadata": {
        "colab": {
          "base_uri": "https://localhost:8080/"
        },
        "id": "Q_874oZsdXXn",
        "outputId": "ec8de803-918a-4bac-a8c0-e8691cf0885d"
      },
      "execution_count": 6,
      "outputs": [
        {
          "output_type": "execute_result",
          "data": {
            "text/plain": [
              "id_cliente    0\n",
              "subcanal      0\n",
              "mes_alta      0\n",
              "dtype: int64"
            ]
          },
          "metadata": {},
          "execution_count": 6
        }
      ]
    },
    {
      "cell_type": "code",
      "source": [
        "clientes_df[clientes_df.isna().any(axis=1)]"
      ],
      "metadata": {
        "colab": {
          "base_uri": "https://localhost:8080/",
          "height": 0
        },
        "id": "UFpnhpQfdXUI",
        "outputId": "361be75d-f3e0-4994-d31e-a3130dd7440f"
      },
      "execution_count": 7,
      "outputs": [
        {
          "output_type": "execute_result",
          "data": {
            "text/plain": [
              "Empty DataFrame\n",
              "Columns: [id_cliente, subcanal, mes_alta]\n",
              "Index: []"
            ],
            "text/html": [
              "\n",
              "  <div id=\"df-9a0e700d-3a4e-47e8-9c22-90ab0cd67187\">\n",
              "    <div class=\"colab-df-container\">\n",
              "      <div>\n",
              "<style scoped>\n",
              "    .dataframe tbody tr th:only-of-type {\n",
              "        vertical-align: middle;\n",
              "    }\n",
              "\n",
              "    .dataframe tbody tr th {\n",
              "        vertical-align: top;\n",
              "    }\n",
              "\n",
              "    .dataframe thead th {\n",
              "        text-align: right;\n",
              "    }\n",
              "</style>\n",
              "<table border=\"1\" class=\"dataframe\">\n",
              "  <thead>\n",
              "    <tr style=\"text-align: right;\">\n",
              "      <th></th>\n",
              "      <th>id_cliente</th>\n",
              "      <th>subcanal</th>\n",
              "      <th>mes_alta</th>\n",
              "    </tr>\n",
              "  </thead>\n",
              "  <tbody>\n",
              "  </tbody>\n",
              "</table>\n",
              "</div>\n",
              "      <button class=\"colab-df-convert\" onclick=\"convertToInteractive('df-9a0e700d-3a4e-47e8-9c22-90ab0cd67187')\"\n",
              "              title=\"Convert this dataframe to an interactive table.\"\n",
              "              style=\"display:none;\">\n",
              "        \n",
              "  <svg xmlns=\"http://www.w3.org/2000/svg\" height=\"24px\"viewBox=\"0 0 24 24\"\n",
              "       width=\"24px\">\n",
              "    <path d=\"M0 0h24v24H0V0z\" fill=\"none\"/>\n",
              "    <path d=\"M18.56 5.44l.94 2.06.94-2.06 2.06-.94-2.06-.94-.94-2.06-.94 2.06-2.06.94zm-11 1L8.5 8.5l.94-2.06 2.06-.94-2.06-.94L8.5 2.5l-.94 2.06-2.06.94zm10 10l.94 2.06.94-2.06 2.06-.94-2.06-.94-.94-2.06-.94 2.06-2.06.94z\"/><path d=\"M17.41 7.96l-1.37-1.37c-.4-.4-.92-.59-1.43-.59-.52 0-1.04.2-1.43.59L10.3 9.45l-7.72 7.72c-.78.78-.78 2.05 0 2.83L4 21.41c.39.39.9.59 1.41.59.51 0 1.02-.2 1.41-.59l7.78-7.78 2.81-2.81c.8-.78.8-2.07 0-2.86zM5.41 20L4 18.59l7.72-7.72 1.47 1.35L5.41 20z\"/>\n",
              "  </svg>\n",
              "      </button>\n",
              "      \n",
              "  <style>\n",
              "    .colab-df-container {\n",
              "      display:flex;\n",
              "      flex-wrap:wrap;\n",
              "      gap: 12px;\n",
              "    }\n",
              "\n",
              "    .colab-df-convert {\n",
              "      background-color: #E8F0FE;\n",
              "      border: none;\n",
              "      border-radius: 50%;\n",
              "      cursor: pointer;\n",
              "      display: none;\n",
              "      fill: #1967D2;\n",
              "      height: 32px;\n",
              "      padding: 0 0 0 0;\n",
              "      width: 32px;\n",
              "    }\n",
              "\n",
              "    .colab-df-convert:hover {\n",
              "      background-color: #E2EBFA;\n",
              "      box-shadow: 0px 1px 2px rgba(60, 64, 67, 0.3), 0px 1px 3px 1px rgba(60, 64, 67, 0.15);\n",
              "      fill: #174EA6;\n",
              "    }\n",
              "\n",
              "    [theme=dark] .colab-df-convert {\n",
              "      background-color: #3B4455;\n",
              "      fill: #D2E3FC;\n",
              "    }\n",
              "\n",
              "    [theme=dark] .colab-df-convert:hover {\n",
              "      background-color: #434B5C;\n",
              "      box-shadow: 0px 1px 3px 1px rgba(0, 0, 0, 0.15);\n",
              "      filter: drop-shadow(0px 1px 2px rgba(0, 0, 0, 0.3));\n",
              "      fill: #FFFFFF;\n",
              "    }\n",
              "  </style>\n",
              "\n",
              "      <script>\n",
              "        const buttonEl =\n",
              "          document.querySelector('#df-9a0e700d-3a4e-47e8-9c22-90ab0cd67187 button.colab-df-convert');\n",
              "        buttonEl.style.display =\n",
              "          google.colab.kernel.accessAllowed ? 'block' : 'none';\n",
              "\n",
              "        async function convertToInteractive(key) {\n",
              "          const element = document.querySelector('#df-9a0e700d-3a4e-47e8-9c22-90ab0cd67187');\n",
              "          const dataTable =\n",
              "            await google.colab.kernel.invokeFunction('convertToInteractive',\n",
              "                                                     [key], {});\n",
              "          if (!dataTable) return;\n",
              "\n",
              "          const docLinkHtml = 'Like what you see? Visit the ' +\n",
              "            '<a target=\"_blank\" href=https://colab.research.google.com/notebooks/data_table.ipynb>data table notebook</a>'\n",
              "            + ' to learn more about interactive tables.';\n",
              "          element.innerHTML = '';\n",
              "          dataTable['output_type'] = 'display_data';\n",
              "          await google.colab.output.renderOutput(dataTable, element);\n",
              "          const docLink = document.createElement('div');\n",
              "          docLink.innerHTML = docLinkHtml;\n",
              "          element.appendChild(docLink);\n",
              "        }\n",
              "      </script>\n",
              "    </div>\n",
              "  </div>\n",
              "  "
            ]
          },
          "metadata": {},
          "execution_count": 7
        }
      ]
    },
    {
      "cell_type": "markdown",
      "source": [
        "####DF Transacciones\n",
        "\n",
        "* No hay nulos, ni faltantes.\n",
        "* Analizar si es necesario cambiar el tipo de dato de la columna \"mes\"."
      ],
      "metadata": {
        "id": "AcMZHjuBeJ2V"
      }
    },
    {
      "cell_type": "code",
      "source": [
        "transacciones_df.head()"
      ],
      "metadata": {
        "colab": {
          "base_uri": "https://localhost:8080/",
          "height": 0
        },
        "id": "wU27iedLe9wC",
        "outputId": "3444628a-05d5-4a1b-d879-8db5c1a3e8ab"
      },
      "execution_count": 8,
      "outputs": [
        {
          "output_type": "execute_result",
          "data": {
            "text/plain": [
              "   id_cliente         mes  compras_contado  compras_credito  compras_total  \\\n",
              "0        3823  2020-09-01              0.0              0.0            0.0   \n",
              "1        3823  2020-10-01              0.0              0.0            0.0   \n",
              "2        3823  2020-11-01              0.0              0.0            0.0   \n",
              "3        3823  2020-12-01              0.0              0.0            0.0   \n",
              "4        3823  2021-01-01              0.0              0.0            0.0   \n",
              "\n",
              "   n_compras_total  n_sucursales  \n",
              "0                0             0  \n",
              "1                0             0  \n",
              "2                0             0  \n",
              "3                0             0  \n",
              "4                0             0  "
            ],
            "text/html": [
              "\n",
              "  <div id=\"df-14dbf977-eaa8-44cf-bf54-f7d3f010407e\">\n",
              "    <div class=\"colab-df-container\">\n",
              "      <div>\n",
              "<style scoped>\n",
              "    .dataframe tbody tr th:only-of-type {\n",
              "        vertical-align: middle;\n",
              "    }\n",
              "\n",
              "    .dataframe tbody tr th {\n",
              "        vertical-align: top;\n",
              "    }\n",
              "\n",
              "    .dataframe thead th {\n",
              "        text-align: right;\n",
              "    }\n",
              "</style>\n",
              "<table border=\"1\" class=\"dataframe\">\n",
              "  <thead>\n",
              "    <tr style=\"text-align: right;\">\n",
              "      <th></th>\n",
              "      <th>id_cliente</th>\n",
              "      <th>mes</th>\n",
              "      <th>compras_contado</th>\n",
              "      <th>compras_credito</th>\n",
              "      <th>compras_total</th>\n",
              "      <th>n_compras_total</th>\n",
              "      <th>n_sucursales</th>\n",
              "    </tr>\n",
              "  </thead>\n",
              "  <tbody>\n",
              "    <tr>\n",
              "      <th>0</th>\n",
              "      <td>3823</td>\n",
              "      <td>2020-09-01</td>\n",
              "      <td>0.0</td>\n",
              "      <td>0.0</td>\n",
              "      <td>0.0</td>\n",
              "      <td>0</td>\n",
              "      <td>0</td>\n",
              "    </tr>\n",
              "    <tr>\n",
              "      <th>1</th>\n",
              "      <td>3823</td>\n",
              "      <td>2020-10-01</td>\n",
              "      <td>0.0</td>\n",
              "      <td>0.0</td>\n",
              "      <td>0.0</td>\n",
              "      <td>0</td>\n",
              "      <td>0</td>\n",
              "    </tr>\n",
              "    <tr>\n",
              "      <th>2</th>\n",
              "      <td>3823</td>\n",
              "      <td>2020-11-01</td>\n",
              "      <td>0.0</td>\n",
              "      <td>0.0</td>\n",
              "      <td>0.0</td>\n",
              "      <td>0</td>\n",
              "      <td>0</td>\n",
              "    </tr>\n",
              "    <tr>\n",
              "      <th>3</th>\n",
              "      <td>3823</td>\n",
              "      <td>2020-12-01</td>\n",
              "      <td>0.0</td>\n",
              "      <td>0.0</td>\n",
              "      <td>0.0</td>\n",
              "      <td>0</td>\n",
              "      <td>0</td>\n",
              "    </tr>\n",
              "    <tr>\n",
              "      <th>4</th>\n",
              "      <td>3823</td>\n",
              "      <td>2021-01-01</td>\n",
              "      <td>0.0</td>\n",
              "      <td>0.0</td>\n",
              "      <td>0.0</td>\n",
              "      <td>0</td>\n",
              "      <td>0</td>\n",
              "    </tr>\n",
              "  </tbody>\n",
              "</table>\n",
              "</div>\n",
              "      <button class=\"colab-df-convert\" onclick=\"convertToInteractive('df-14dbf977-eaa8-44cf-bf54-f7d3f010407e')\"\n",
              "              title=\"Convert this dataframe to an interactive table.\"\n",
              "              style=\"display:none;\">\n",
              "        \n",
              "  <svg xmlns=\"http://www.w3.org/2000/svg\" height=\"24px\"viewBox=\"0 0 24 24\"\n",
              "       width=\"24px\">\n",
              "    <path d=\"M0 0h24v24H0V0z\" fill=\"none\"/>\n",
              "    <path d=\"M18.56 5.44l.94 2.06.94-2.06 2.06-.94-2.06-.94-.94-2.06-.94 2.06-2.06.94zm-11 1L8.5 8.5l.94-2.06 2.06-.94-2.06-.94L8.5 2.5l-.94 2.06-2.06.94zm10 10l.94 2.06.94-2.06 2.06-.94-2.06-.94-.94-2.06-.94 2.06-2.06.94z\"/><path d=\"M17.41 7.96l-1.37-1.37c-.4-.4-.92-.59-1.43-.59-.52 0-1.04.2-1.43.59L10.3 9.45l-7.72 7.72c-.78.78-.78 2.05 0 2.83L4 21.41c.39.39.9.59 1.41.59.51 0 1.02-.2 1.41-.59l7.78-7.78 2.81-2.81c.8-.78.8-2.07 0-2.86zM5.41 20L4 18.59l7.72-7.72 1.47 1.35L5.41 20z\"/>\n",
              "  </svg>\n",
              "      </button>\n",
              "      \n",
              "  <style>\n",
              "    .colab-df-container {\n",
              "      display:flex;\n",
              "      flex-wrap:wrap;\n",
              "      gap: 12px;\n",
              "    }\n",
              "\n",
              "    .colab-df-convert {\n",
              "      background-color: #E8F0FE;\n",
              "      border: none;\n",
              "      border-radius: 50%;\n",
              "      cursor: pointer;\n",
              "      display: none;\n",
              "      fill: #1967D2;\n",
              "      height: 32px;\n",
              "      padding: 0 0 0 0;\n",
              "      width: 32px;\n",
              "    }\n",
              "\n",
              "    .colab-df-convert:hover {\n",
              "      background-color: #E2EBFA;\n",
              "      box-shadow: 0px 1px 2px rgba(60, 64, 67, 0.3), 0px 1px 3px 1px rgba(60, 64, 67, 0.15);\n",
              "      fill: #174EA6;\n",
              "    }\n",
              "\n",
              "    [theme=dark] .colab-df-convert {\n",
              "      background-color: #3B4455;\n",
              "      fill: #D2E3FC;\n",
              "    }\n",
              "\n",
              "    [theme=dark] .colab-df-convert:hover {\n",
              "      background-color: #434B5C;\n",
              "      box-shadow: 0px 1px 3px 1px rgba(0, 0, 0, 0.15);\n",
              "      filter: drop-shadow(0px 1px 2px rgba(0, 0, 0, 0.3));\n",
              "      fill: #FFFFFF;\n",
              "    }\n",
              "  </style>\n",
              "\n",
              "      <script>\n",
              "        const buttonEl =\n",
              "          document.querySelector('#df-14dbf977-eaa8-44cf-bf54-f7d3f010407e button.colab-df-convert');\n",
              "        buttonEl.style.display =\n",
              "          google.colab.kernel.accessAllowed ? 'block' : 'none';\n",
              "\n",
              "        async function convertToInteractive(key) {\n",
              "          const element = document.querySelector('#df-14dbf977-eaa8-44cf-bf54-f7d3f010407e');\n",
              "          const dataTable =\n",
              "            await google.colab.kernel.invokeFunction('convertToInteractive',\n",
              "                                                     [key], {});\n",
              "          if (!dataTable) return;\n",
              "\n",
              "          const docLinkHtml = 'Like what you see? Visit the ' +\n",
              "            '<a target=\"_blank\" href=https://colab.research.google.com/notebooks/data_table.ipynb>data table notebook</a>'\n",
              "            + ' to learn more about interactive tables.';\n",
              "          element.innerHTML = '';\n",
              "          dataTable['output_type'] = 'display_data';\n",
              "          await google.colab.output.renderOutput(dataTable, element);\n",
              "          const docLink = document.createElement('div');\n",
              "          docLink.innerHTML = docLinkHtml;\n",
              "          element.appendChild(docLink);\n",
              "        }\n",
              "      </script>\n",
              "    </div>\n",
              "  </div>\n",
              "  "
            ]
          },
          "metadata": {},
          "execution_count": 8
        }
      ]
    },
    {
      "cell_type": "code",
      "source": [
        "transacciones_df.info()"
      ],
      "metadata": {
        "colab": {
          "base_uri": "https://localhost:8080/"
        },
        "id": "JF4EmMUvd1Tx",
        "outputId": "fac3c446-a752-4ba0-8277-6f1408779574"
      },
      "execution_count": 9,
      "outputs": [
        {
          "output_type": "stream",
          "name": "stdout",
          "text": [
            "<class 'pandas.core.frame.DataFrame'>\n",
            "RangeIndex: 945890 entries, 0 to 945889\n",
            "Data columns (total 7 columns):\n",
            " #   Column           Non-Null Count   Dtype  \n",
            "---  ------           --------------   -----  \n",
            " 0   id_cliente       945890 non-null  int64  \n",
            " 1   mes              945890 non-null  object \n",
            " 2   compras_contado  945890 non-null  float64\n",
            " 3   compras_credito  945890 non-null  float64\n",
            " 4   compras_total    945890 non-null  float64\n",
            " 5   n_compras_total  945890 non-null  int64  \n",
            " 6   n_sucursales     945890 non-null  int64  \n",
            "dtypes: float64(3), int64(3), object(1)\n",
            "memory usage: 50.5+ MB\n"
          ]
        }
      ]
    },
    {
      "cell_type": "code",
      "source": [
        "transacciones_df.isnull().sum()"
      ],
      "metadata": {
        "colab": {
          "base_uri": "https://localhost:8080/"
        },
        "id": "rOZPg6SWd1QB",
        "outputId": "3a9e0405-3327-4a2a-ef07-dc8cf5a8e9c1"
      },
      "execution_count": 10,
      "outputs": [
        {
          "output_type": "execute_result",
          "data": {
            "text/plain": [
              "id_cliente         0\n",
              "mes                0\n",
              "compras_contado    0\n",
              "compras_credito    0\n",
              "compras_total      0\n",
              "n_compras_total    0\n",
              "n_sucursales       0\n",
              "dtype: int64"
            ]
          },
          "metadata": {},
          "execution_count": 10
        }
      ]
    },
    {
      "cell_type": "code",
      "source": [
        "transacciones_df[transacciones_df.isna().any(axis=1)]"
      ],
      "metadata": {
        "colab": {
          "base_uri": "https://localhost:8080/",
          "height": 0
        },
        "id": "F5FihqLxd1Mo",
        "outputId": "a6361504-fe9c-4e79-fc4a-92528ec5d547"
      },
      "execution_count": 11,
      "outputs": [
        {
          "output_type": "execute_result",
          "data": {
            "text/plain": [
              "Empty DataFrame\n",
              "Columns: [id_cliente, mes, compras_contado, compras_credito, compras_total, n_compras_total, n_sucursales]\n",
              "Index: []"
            ],
            "text/html": [
              "\n",
              "  <div id=\"df-d5fa31dd-6878-4ad9-943d-35f2dfd22609\">\n",
              "    <div class=\"colab-df-container\">\n",
              "      <div>\n",
              "<style scoped>\n",
              "    .dataframe tbody tr th:only-of-type {\n",
              "        vertical-align: middle;\n",
              "    }\n",
              "\n",
              "    .dataframe tbody tr th {\n",
              "        vertical-align: top;\n",
              "    }\n",
              "\n",
              "    .dataframe thead th {\n",
              "        text-align: right;\n",
              "    }\n",
              "</style>\n",
              "<table border=\"1\" class=\"dataframe\">\n",
              "  <thead>\n",
              "    <tr style=\"text-align: right;\">\n",
              "      <th></th>\n",
              "      <th>id_cliente</th>\n",
              "      <th>mes</th>\n",
              "      <th>compras_contado</th>\n",
              "      <th>compras_credito</th>\n",
              "      <th>compras_total</th>\n",
              "      <th>n_compras_total</th>\n",
              "      <th>n_sucursales</th>\n",
              "    </tr>\n",
              "  </thead>\n",
              "  <tbody>\n",
              "  </tbody>\n",
              "</table>\n",
              "</div>\n",
              "      <button class=\"colab-df-convert\" onclick=\"convertToInteractive('df-d5fa31dd-6878-4ad9-943d-35f2dfd22609')\"\n",
              "              title=\"Convert this dataframe to an interactive table.\"\n",
              "              style=\"display:none;\">\n",
              "        \n",
              "  <svg xmlns=\"http://www.w3.org/2000/svg\" height=\"24px\"viewBox=\"0 0 24 24\"\n",
              "       width=\"24px\">\n",
              "    <path d=\"M0 0h24v24H0V0z\" fill=\"none\"/>\n",
              "    <path d=\"M18.56 5.44l.94 2.06.94-2.06 2.06-.94-2.06-.94-.94-2.06-.94 2.06-2.06.94zm-11 1L8.5 8.5l.94-2.06 2.06-.94-2.06-.94L8.5 2.5l-.94 2.06-2.06.94zm10 10l.94 2.06.94-2.06 2.06-.94-2.06-.94-.94-2.06-.94 2.06-2.06.94z\"/><path d=\"M17.41 7.96l-1.37-1.37c-.4-.4-.92-.59-1.43-.59-.52 0-1.04.2-1.43.59L10.3 9.45l-7.72 7.72c-.78.78-.78 2.05 0 2.83L4 21.41c.39.39.9.59 1.41.59.51 0 1.02-.2 1.41-.59l7.78-7.78 2.81-2.81c.8-.78.8-2.07 0-2.86zM5.41 20L4 18.59l7.72-7.72 1.47 1.35L5.41 20z\"/>\n",
              "  </svg>\n",
              "      </button>\n",
              "      \n",
              "  <style>\n",
              "    .colab-df-container {\n",
              "      display:flex;\n",
              "      flex-wrap:wrap;\n",
              "      gap: 12px;\n",
              "    }\n",
              "\n",
              "    .colab-df-convert {\n",
              "      background-color: #E8F0FE;\n",
              "      border: none;\n",
              "      border-radius: 50%;\n",
              "      cursor: pointer;\n",
              "      display: none;\n",
              "      fill: #1967D2;\n",
              "      height: 32px;\n",
              "      padding: 0 0 0 0;\n",
              "      width: 32px;\n",
              "    }\n",
              "\n",
              "    .colab-df-convert:hover {\n",
              "      background-color: #E2EBFA;\n",
              "      box-shadow: 0px 1px 2px rgba(60, 64, 67, 0.3), 0px 1px 3px 1px rgba(60, 64, 67, 0.15);\n",
              "      fill: #174EA6;\n",
              "    }\n",
              "\n",
              "    [theme=dark] .colab-df-convert {\n",
              "      background-color: #3B4455;\n",
              "      fill: #D2E3FC;\n",
              "    }\n",
              "\n",
              "    [theme=dark] .colab-df-convert:hover {\n",
              "      background-color: #434B5C;\n",
              "      box-shadow: 0px 1px 3px 1px rgba(0, 0, 0, 0.15);\n",
              "      filter: drop-shadow(0px 1px 2px rgba(0, 0, 0, 0.3));\n",
              "      fill: #FFFFFF;\n",
              "    }\n",
              "  </style>\n",
              "\n",
              "      <script>\n",
              "        const buttonEl =\n",
              "          document.querySelector('#df-d5fa31dd-6878-4ad9-943d-35f2dfd22609 button.colab-df-convert');\n",
              "        buttonEl.style.display =\n",
              "          google.colab.kernel.accessAllowed ? 'block' : 'none';\n",
              "\n",
              "        async function convertToInteractive(key) {\n",
              "          const element = document.querySelector('#df-d5fa31dd-6878-4ad9-943d-35f2dfd22609');\n",
              "          const dataTable =\n",
              "            await google.colab.kernel.invokeFunction('convertToInteractive',\n",
              "                                                     [key], {});\n",
              "          if (!dataTable) return;\n",
              "\n",
              "          const docLinkHtml = 'Like what you see? Visit the ' +\n",
              "            '<a target=\"_blank\" href=https://colab.research.google.com/notebooks/data_table.ipynb>data table notebook</a>'\n",
              "            + ' to learn more about interactive tables.';\n",
              "          element.innerHTML = '';\n",
              "          dataTable['output_type'] = 'display_data';\n",
              "          await google.colab.output.renderOutput(dataTable, element);\n",
              "          const docLink = document.createElement('div');\n",
              "          docLink.innerHTML = docLinkHtml;\n",
              "          element.appendChild(docLink);\n",
              "        }\n",
              "      </script>\n",
              "    </div>\n",
              "  </div>\n",
              "  "
            ]
          },
          "metadata": {},
          "execution_count": 11
        }
      ]
    },
    {
      "cell_type": "markdown",
      "source": [
        "####DF Limites y plazos\n",
        "\n",
        "* No hay nulos, ni faltantes.\n",
        "* Analizar si es necesario cambiar el tipo de dato de la columna \"mes\"."
      ],
      "metadata": {
        "id": "R2NB1AAGearY"
      }
    },
    {
      "cell_type": "code",
      "source": [
        "limites_y_plazos_df.head()"
      ],
      "metadata": {
        "colab": {
          "base_uri": "https://localhost:8080/",
          "height": 0
        },
        "id": "kL6p0YBWfCc1",
        "outputId": "8cd6cbed-969f-4db1-a1ef-731382a96cf1"
      },
      "execution_count": 12,
      "outputs": [
        {
          "output_type": "execute_result",
          "data": {
            "text/plain": [
              "   id_cliente         mes  limite_maximo  plazo_maximo  limite_findemes  \\\n",
              "0        8425  2021-05-01        10000.0            21          10000.0   \n",
              "1        8425  2021-06-01        10000.0            21          10000.0   \n",
              "2        8425  2021-07-01        10000.0            21          10000.0   \n",
              "3       10231  2020-09-01         1000.0            15           1000.0   \n",
              "4       10231  2020-10-01         1000.0            15           1000.0   \n",
              "\n",
              "   plazo_findemes  \n",
              "0              21  \n",
              "1              21  \n",
              "2              21  \n",
              "3              15  \n",
              "4              15  "
            ],
            "text/html": [
              "\n",
              "  <div id=\"df-1dceb71b-209e-4a2a-bf8f-1a39d7dbff12\">\n",
              "    <div class=\"colab-df-container\">\n",
              "      <div>\n",
              "<style scoped>\n",
              "    .dataframe tbody tr th:only-of-type {\n",
              "        vertical-align: middle;\n",
              "    }\n",
              "\n",
              "    .dataframe tbody tr th {\n",
              "        vertical-align: top;\n",
              "    }\n",
              "\n",
              "    .dataframe thead th {\n",
              "        text-align: right;\n",
              "    }\n",
              "</style>\n",
              "<table border=\"1\" class=\"dataframe\">\n",
              "  <thead>\n",
              "    <tr style=\"text-align: right;\">\n",
              "      <th></th>\n",
              "      <th>id_cliente</th>\n",
              "      <th>mes</th>\n",
              "      <th>limite_maximo</th>\n",
              "      <th>plazo_maximo</th>\n",
              "      <th>limite_findemes</th>\n",
              "      <th>plazo_findemes</th>\n",
              "    </tr>\n",
              "  </thead>\n",
              "  <tbody>\n",
              "    <tr>\n",
              "      <th>0</th>\n",
              "      <td>8425</td>\n",
              "      <td>2021-05-01</td>\n",
              "      <td>10000.0</td>\n",
              "      <td>21</td>\n",
              "      <td>10000.0</td>\n",
              "      <td>21</td>\n",
              "    </tr>\n",
              "    <tr>\n",
              "      <th>1</th>\n",
              "      <td>8425</td>\n",
              "      <td>2021-06-01</td>\n",
              "      <td>10000.0</td>\n",
              "      <td>21</td>\n",
              "      <td>10000.0</td>\n",
              "      <td>21</td>\n",
              "    </tr>\n",
              "    <tr>\n",
              "      <th>2</th>\n",
              "      <td>8425</td>\n",
              "      <td>2021-07-01</td>\n",
              "      <td>10000.0</td>\n",
              "      <td>21</td>\n",
              "      <td>10000.0</td>\n",
              "      <td>21</td>\n",
              "    </tr>\n",
              "    <tr>\n",
              "      <th>3</th>\n",
              "      <td>10231</td>\n",
              "      <td>2020-09-01</td>\n",
              "      <td>1000.0</td>\n",
              "      <td>15</td>\n",
              "      <td>1000.0</td>\n",
              "      <td>15</td>\n",
              "    </tr>\n",
              "    <tr>\n",
              "      <th>4</th>\n",
              "      <td>10231</td>\n",
              "      <td>2020-10-01</td>\n",
              "      <td>1000.0</td>\n",
              "      <td>15</td>\n",
              "      <td>1000.0</td>\n",
              "      <td>15</td>\n",
              "    </tr>\n",
              "  </tbody>\n",
              "</table>\n",
              "</div>\n",
              "      <button class=\"colab-df-convert\" onclick=\"convertToInteractive('df-1dceb71b-209e-4a2a-bf8f-1a39d7dbff12')\"\n",
              "              title=\"Convert this dataframe to an interactive table.\"\n",
              "              style=\"display:none;\">\n",
              "        \n",
              "  <svg xmlns=\"http://www.w3.org/2000/svg\" height=\"24px\"viewBox=\"0 0 24 24\"\n",
              "       width=\"24px\">\n",
              "    <path d=\"M0 0h24v24H0V0z\" fill=\"none\"/>\n",
              "    <path d=\"M18.56 5.44l.94 2.06.94-2.06 2.06-.94-2.06-.94-.94-2.06-.94 2.06-2.06.94zm-11 1L8.5 8.5l.94-2.06 2.06-.94-2.06-.94L8.5 2.5l-.94 2.06-2.06.94zm10 10l.94 2.06.94-2.06 2.06-.94-2.06-.94-.94-2.06-.94 2.06-2.06.94z\"/><path d=\"M17.41 7.96l-1.37-1.37c-.4-.4-.92-.59-1.43-.59-.52 0-1.04.2-1.43.59L10.3 9.45l-7.72 7.72c-.78.78-.78 2.05 0 2.83L4 21.41c.39.39.9.59 1.41.59.51 0 1.02-.2 1.41-.59l7.78-7.78 2.81-2.81c.8-.78.8-2.07 0-2.86zM5.41 20L4 18.59l7.72-7.72 1.47 1.35L5.41 20z\"/>\n",
              "  </svg>\n",
              "      </button>\n",
              "      \n",
              "  <style>\n",
              "    .colab-df-container {\n",
              "      display:flex;\n",
              "      flex-wrap:wrap;\n",
              "      gap: 12px;\n",
              "    }\n",
              "\n",
              "    .colab-df-convert {\n",
              "      background-color: #E8F0FE;\n",
              "      border: none;\n",
              "      border-radius: 50%;\n",
              "      cursor: pointer;\n",
              "      display: none;\n",
              "      fill: #1967D2;\n",
              "      height: 32px;\n",
              "      padding: 0 0 0 0;\n",
              "      width: 32px;\n",
              "    }\n",
              "\n",
              "    .colab-df-convert:hover {\n",
              "      background-color: #E2EBFA;\n",
              "      box-shadow: 0px 1px 2px rgba(60, 64, 67, 0.3), 0px 1px 3px 1px rgba(60, 64, 67, 0.15);\n",
              "      fill: #174EA6;\n",
              "    }\n",
              "\n",
              "    [theme=dark] .colab-df-convert {\n",
              "      background-color: #3B4455;\n",
              "      fill: #D2E3FC;\n",
              "    }\n",
              "\n",
              "    [theme=dark] .colab-df-convert:hover {\n",
              "      background-color: #434B5C;\n",
              "      box-shadow: 0px 1px 3px 1px rgba(0, 0, 0, 0.15);\n",
              "      filter: drop-shadow(0px 1px 2px rgba(0, 0, 0, 0.3));\n",
              "      fill: #FFFFFF;\n",
              "    }\n",
              "  </style>\n",
              "\n",
              "      <script>\n",
              "        const buttonEl =\n",
              "          document.querySelector('#df-1dceb71b-209e-4a2a-bf8f-1a39d7dbff12 button.colab-df-convert');\n",
              "        buttonEl.style.display =\n",
              "          google.colab.kernel.accessAllowed ? 'block' : 'none';\n",
              "\n",
              "        async function convertToInteractive(key) {\n",
              "          const element = document.querySelector('#df-1dceb71b-209e-4a2a-bf8f-1a39d7dbff12');\n",
              "          const dataTable =\n",
              "            await google.colab.kernel.invokeFunction('convertToInteractive',\n",
              "                                                     [key], {});\n",
              "          if (!dataTable) return;\n",
              "\n",
              "          const docLinkHtml = 'Like what you see? Visit the ' +\n",
              "            '<a target=\"_blank\" href=https://colab.research.google.com/notebooks/data_table.ipynb>data table notebook</a>'\n",
              "            + ' to learn more about interactive tables.';\n",
              "          element.innerHTML = '';\n",
              "          dataTable['output_type'] = 'display_data';\n",
              "          await google.colab.output.renderOutput(dataTable, element);\n",
              "          const docLink = document.createElement('div');\n",
              "          docLink.innerHTML = docLinkHtml;\n",
              "          element.appendChild(docLink);\n",
              "        }\n",
              "      </script>\n",
              "    </div>\n",
              "  </div>\n",
              "  "
            ]
          },
          "metadata": {},
          "execution_count": 12
        }
      ]
    },
    {
      "cell_type": "code",
      "source": [
        "limites_y_plazos_df.info()"
      ],
      "metadata": {
        "colab": {
          "base_uri": "https://localhost:8080/"
        },
        "id": "KZ8yG_7ed1JR",
        "outputId": "ef1c331d-0392-4880-c455-a9add60fbd51"
      },
      "execution_count": 13,
      "outputs": [
        {
          "output_type": "stream",
          "name": "stdout",
          "text": [
            "<class 'pandas.core.frame.DataFrame'>\n",
            "RangeIndex: 9663 entries, 0 to 9662\n",
            "Data columns (total 6 columns):\n",
            " #   Column           Non-Null Count  Dtype  \n",
            "---  ------           --------------  -----  \n",
            " 0   id_cliente       9663 non-null   int64  \n",
            " 1   mes              9663 non-null   object \n",
            " 2   limite_maximo    9663 non-null   float64\n",
            " 3   plazo_maximo     9663 non-null   int64  \n",
            " 4   limite_findemes  9663 non-null   float64\n",
            " 5   plazo_findemes   9663 non-null   int64  \n",
            "dtypes: float64(2), int64(3), object(1)\n",
            "memory usage: 453.1+ KB\n"
          ]
        }
      ]
    },
    {
      "cell_type": "code",
      "source": [
        "limites_y_plazos_df.isnull().sum()"
      ],
      "metadata": {
        "colab": {
          "base_uri": "https://localhost:8080/"
        },
        "id": "3WOoZHMHd1Gi",
        "outputId": "dee1312a-ffe0-41d8-ba9f-7ae32d46ec03"
      },
      "execution_count": 14,
      "outputs": [
        {
          "output_type": "execute_result",
          "data": {
            "text/plain": [
              "id_cliente         0\n",
              "mes                0\n",
              "limite_maximo      0\n",
              "plazo_maximo       0\n",
              "limite_findemes    0\n",
              "plazo_findemes     0\n",
              "dtype: int64"
            ]
          },
          "metadata": {},
          "execution_count": 14
        }
      ]
    },
    {
      "cell_type": "code",
      "source": [
        "limites_y_plazos_df[limites_y_plazos_df.isna().any(axis=1)]"
      ],
      "metadata": {
        "colab": {
          "base_uri": "https://localhost:8080/",
          "height": 0
        },
        "id": "QWCFc5HZd1Cu",
        "outputId": "4c3fc7c1-0d5a-4ef6-ca6a-61a5f80c1c24"
      },
      "execution_count": 15,
      "outputs": [
        {
          "output_type": "execute_result",
          "data": {
            "text/plain": [
              "Empty DataFrame\n",
              "Columns: [id_cliente, mes, limite_maximo, plazo_maximo, limite_findemes, plazo_findemes]\n",
              "Index: []"
            ],
            "text/html": [
              "\n",
              "  <div id=\"df-d11c676a-c67f-4b10-9c91-2f183db9bc10\">\n",
              "    <div class=\"colab-df-container\">\n",
              "      <div>\n",
              "<style scoped>\n",
              "    .dataframe tbody tr th:only-of-type {\n",
              "        vertical-align: middle;\n",
              "    }\n",
              "\n",
              "    .dataframe tbody tr th {\n",
              "        vertical-align: top;\n",
              "    }\n",
              "\n",
              "    .dataframe thead th {\n",
              "        text-align: right;\n",
              "    }\n",
              "</style>\n",
              "<table border=\"1\" class=\"dataframe\">\n",
              "  <thead>\n",
              "    <tr style=\"text-align: right;\">\n",
              "      <th></th>\n",
              "      <th>id_cliente</th>\n",
              "      <th>mes</th>\n",
              "      <th>limite_maximo</th>\n",
              "      <th>plazo_maximo</th>\n",
              "      <th>limite_findemes</th>\n",
              "      <th>plazo_findemes</th>\n",
              "    </tr>\n",
              "  </thead>\n",
              "  <tbody>\n",
              "  </tbody>\n",
              "</table>\n",
              "</div>\n",
              "      <button class=\"colab-df-convert\" onclick=\"convertToInteractive('df-d11c676a-c67f-4b10-9c91-2f183db9bc10')\"\n",
              "              title=\"Convert this dataframe to an interactive table.\"\n",
              "              style=\"display:none;\">\n",
              "        \n",
              "  <svg xmlns=\"http://www.w3.org/2000/svg\" height=\"24px\"viewBox=\"0 0 24 24\"\n",
              "       width=\"24px\">\n",
              "    <path d=\"M0 0h24v24H0V0z\" fill=\"none\"/>\n",
              "    <path d=\"M18.56 5.44l.94 2.06.94-2.06 2.06-.94-2.06-.94-.94-2.06-.94 2.06-2.06.94zm-11 1L8.5 8.5l.94-2.06 2.06-.94-2.06-.94L8.5 2.5l-.94 2.06-2.06.94zm10 10l.94 2.06.94-2.06 2.06-.94-2.06-.94-.94-2.06-.94 2.06-2.06.94z\"/><path d=\"M17.41 7.96l-1.37-1.37c-.4-.4-.92-.59-1.43-.59-.52 0-1.04.2-1.43.59L10.3 9.45l-7.72 7.72c-.78.78-.78 2.05 0 2.83L4 21.41c.39.39.9.59 1.41.59.51 0 1.02-.2 1.41-.59l7.78-7.78 2.81-2.81c.8-.78.8-2.07 0-2.86zM5.41 20L4 18.59l7.72-7.72 1.47 1.35L5.41 20z\"/>\n",
              "  </svg>\n",
              "      </button>\n",
              "      \n",
              "  <style>\n",
              "    .colab-df-container {\n",
              "      display:flex;\n",
              "      flex-wrap:wrap;\n",
              "      gap: 12px;\n",
              "    }\n",
              "\n",
              "    .colab-df-convert {\n",
              "      background-color: #E8F0FE;\n",
              "      border: none;\n",
              "      border-radius: 50%;\n",
              "      cursor: pointer;\n",
              "      display: none;\n",
              "      fill: #1967D2;\n",
              "      height: 32px;\n",
              "      padding: 0 0 0 0;\n",
              "      width: 32px;\n",
              "    }\n",
              "\n",
              "    .colab-df-convert:hover {\n",
              "      background-color: #E2EBFA;\n",
              "      box-shadow: 0px 1px 2px rgba(60, 64, 67, 0.3), 0px 1px 3px 1px rgba(60, 64, 67, 0.15);\n",
              "      fill: #174EA6;\n",
              "    }\n",
              "\n",
              "    [theme=dark] .colab-df-convert {\n",
              "      background-color: #3B4455;\n",
              "      fill: #D2E3FC;\n",
              "    }\n",
              "\n",
              "    [theme=dark] .colab-df-convert:hover {\n",
              "      background-color: #434B5C;\n",
              "      box-shadow: 0px 1px 3px 1px rgba(0, 0, 0, 0.15);\n",
              "      filter: drop-shadow(0px 1px 2px rgba(0, 0, 0, 0.3));\n",
              "      fill: #FFFFFF;\n",
              "    }\n",
              "  </style>\n",
              "\n",
              "      <script>\n",
              "        const buttonEl =\n",
              "          document.querySelector('#df-d11c676a-c67f-4b10-9c91-2f183db9bc10 button.colab-df-convert');\n",
              "        buttonEl.style.display =\n",
              "          google.colab.kernel.accessAllowed ? 'block' : 'none';\n",
              "\n",
              "        async function convertToInteractive(key) {\n",
              "          const element = document.querySelector('#df-d11c676a-c67f-4b10-9c91-2f183db9bc10');\n",
              "          const dataTable =\n",
              "            await google.colab.kernel.invokeFunction('convertToInteractive',\n",
              "                                                     [key], {});\n",
              "          if (!dataTable) return;\n",
              "\n",
              "          const docLinkHtml = 'Like what you see? Visit the ' +\n",
              "            '<a target=\"_blank\" href=https://colab.research.google.com/notebooks/data_table.ipynb>data table notebook</a>'\n",
              "            + ' to learn more about interactive tables.';\n",
              "          element.innerHTML = '';\n",
              "          dataTable['output_type'] = 'display_data';\n",
              "          await google.colab.output.renderOutput(dataTable, element);\n",
              "          const docLink = document.createElement('div');\n",
              "          docLink.innerHTML = docLinkHtml;\n",
              "          element.appendChild(docLink);\n",
              "        }\n",
              "      </script>\n",
              "    </div>\n",
              "  </div>\n",
              "  "
            ]
          },
          "metadata": {},
          "execution_count": 15
        }
      ]
    },
    {
      "cell_type": "markdown",
      "source": [
        "####DF Deuda\n",
        "\n",
        "\n",
        "* No hay nulos, ni faltantes.\n",
        "* Analizar si es necesario cambiar el tipo de dato de las columnas \"mes\" y \"deuda_findemes\"."
      ],
      "metadata": {
        "id": "9-BQxdGiei0O"
      }
    },
    {
      "cell_type": "code",
      "source": [
        "deuda_df.head()"
      ],
      "metadata": {
        "colab": {
          "base_uri": "https://localhost:8080/",
          "height": 0
        },
        "id": "07CAERAqfHAr",
        "outputId": "77c70ecf-7c10-406d-d521-b43ca7416854"
      },
      "execution_count": 16,
      "outputs": [
        {
          "output_type": "execute_result",
          "data": {
            "text/plain": [
              "   id_cliente         mes  diasatraso_findemes  deuda_findemes\n",
              "0       10231  2020-09-01                   55             475\n",
              "1       10231  2020-10-01                   86             475\n",
              "2       10231  2020-11-01                    0             210\n",
              "3       10231  2021-03-01                    0             216\n",
              "4       10231  2021-04-01                    0             112"
            ],
            "text/html": [
              "\n",
              "  <div id=\"df-02a6e178-2d14-431c-99a8-f2409985a5a0\">\n",
              "    <div class=\"colab-df-container\">\n",
              "      <div>\n",
              "<style scoped>\n",
              "    .dataframe tbody tr th:only-of-type {\n",
              "        vertical-align: middle;\n",
              "    }\n",
              "\n",
              "    .dataframe tbody tr th {\n",
              "        vertical-align: top;\n",
              "    }\n",
              "\n",
              "    .dataframe thead th {\n",
              "        text-align: right;\n",
              "    }\n",
              "</style>\n",
              "<table border=\"1\" class=\"dataframe\">\n",
              "  <thead>\n",
              "    <tr style=\"text-align: right;\">\n",
              "      <th></th>\n",
              "      <th>id_cliente</th>\n",
              "      <th>mes</th>\n",
              "      <th>diasatraso_findemes</th>\n",
              "      <th>deuda_findemes</th>\n",
              "    </tr>\n",
              "  </thead>\n",
              "  <tbody>\n",
              "    <tr>\n",
              "      <th>0</th>\n",
              "      <td>10231</td>\n",
              "      <td>2020-09-01</td>\n",
              "      <td>55</td>\n",
              "      <td>475</td>\n",
              "    </tr>\n",
              "    <tr>\n",
              "      <th>1</th>\n",
              "      <td>10231</td>\n",
              "      <td>2020-10-01</td>\n",
              "      <td>86</td>\n",
              "      <td>475</td>\n",
              "    </tr>\n",
              "    <tr>\n",
              "      <th>2</th>\n",
              "      <td>10231</td>\n",
              "      <td>2020-11-01</td>\n",
              "      <td>0</td>\n",
              "      <td>210</td>\n",
              "    </tr>\n",
              "    <tr>\n",
              "      <th>3</th>\n",
              "      <td>10231</td>\n",
              "      <td>2021-03-01</td>\n",
              "      <td>0</td>\n",
              "      <td>216</td>\n",
              "    </tr>\n",
              "    <tr>\n",
              "      <th>4</th>\n",
              "      <td>10231</td>\n",
              "      <td>2021-04-01</td>\n",
              "      <td>0</td>\n",
              "      <td>112</td>\n",
              "    </tr>\n",
              "  </tbody>\n",
              "</table>\n",
              "</div>\n",
              "      <button class=\"colab-df-convert\" onclick=\"convertToInteractive('df-02a6e178-2d14-431c-99a8-f2409985a5a0')\"\n",
              "              title=\"Convert this dataframe to an interactive table.\"\n",
              "              style=\"display:none;\">\n",
              "        \n",
              "  <svg xmlns=\"http://www.w3.org/2000/svg\" height=\"24px\"viewBox=\"0 0 24 24\"\n",
              "       width=\"24px\">\n",
              "    <path d=\"M0 0h24v24H0V0z\" fill=\"none\"/>\n",
              "    <path d=\"M18.56 5.44l.94 2.06.94-2.06 2.06-.94-2.06-.94-.94-2.06-.94 2.06-2.06.94zm-11 1L8.5 8.5l.94-2.06 2.06-.94-2.06-.94L8.5 2.5l-.94 2.06-2.06.94zm10 10l.94 2.06.94-2.06 2.06-.94-2.06-.94-.94-2.06-.94 2.06-2.06.94z\"/><path d=\"M17.41 7.96l-1.37-1.37c-.4-.4-.92-.59-1.43-.59-.52 0-1.04.2-1.43.59L10.3 9.45l-7.72 7.72c-.78.78-.78 2.05 0 2.83L4 21.41c.39.39.9.59 1.41.59.51 0 1.02-.2 1.41-.59l7.78-7.78 2.81-2.81c.8-.78.8-2.07 0-2.86zM5.41 20L4 18.59l7.72-7.72 1.47 1.35L5.41 20z\"/>\n",
              "  </svg>\n",
              "      </button>\n",
              "      \n",
              "  <style>\n",
              "    .colab-df-container {\n",
              "      display:flex;\n",
              "      flex-wrap:wrap;\n",
              "      gap: 12px;\n",
              "    }\n",
              "\n",
              "    .colab-df-convert {\n",
              "      background-color: #E8F0FE;\n",
              "      border: none;\n",
              "      border-radius: 50%;\n",
              "      cursor: pointer;\n",
              "      display: none;\n",
              "      fill: #1967D2;\n",
              "      height: 32px;\n",
              "      padding: 0 0 0 0;\n",
              "      width: 32px;\n",
              "    }\n",
              "\n",
              "    .colab-df-convert:hover {\n",
              "      background-color: #E2EBFA;\n",
              "      box-shadow: 0px 1px 2px rgba(60, 64, 67, 0.3), 0px 1px 3px 1px rgba(60, 64, 67, 0.15);\n",
              "      fill: #174EA6;\n",
              "    }\n",
              "\n",
              "    [theme=dark] .colab-df-convert {\n",
              "      background-color: #3B4455;\n",
              "      fill: #D2E3FC;\n",
              "    }\n",
              "\n",
              "    [theme=dark] .colab-df-convert:hover {\n",
              "      background-color: #434B5C;\n",
              "      box-shadow: 0px 1px 3px 1px rgba(0, 0, 0, 0.15);\n",
              "      filter: drop-shadow(0px 1px 2px rgba(0, 0, 0, 0.3));\n",
              "      fill: #FFFFFF;\n",
              "    }\n",
              "  </style>\n",
              "\n",
              "      <script>\n",
              "        const buttonEl =\n",
              "          document.querySelector('#df-02a6e178-2d14-431c-99a8-f2409985a5a0 button.colab-df-convert');\n",
              "        buttonEl.style.display =\n",
              "          google.colab.kernel.accessAllowed ? 'block' : 'none';\n",
              "\n",
              "        async function convertToInteractive(key) {\n",
              "          const element = document.querySelector('#df-02a6e178-2d14-431c-99a8-f2409985a5a0');\n",
              "          const dataTable =\n",
              "            await google.colab.kernel.invokeFunction('convertToInteractive',\n",
              "                                                     [key], {});\n",
              "          if (!dataTable) return;\n",
              "\n",
              "          const docLinkHtml = 'Like what you see? Visit the ' +\n",
              "            '<a target=\"_blank\" href=https://colab.research.google.com/notebooks/data_table.ipynb>data table notebook</a>'\n",
              "            + ' to learn more about interactive tables.';\n",
              "          element.innerHTML = '';\n",
              "          dataTable['output_type'] = 'display_data';\n",
              "          await google.colab.output.renderOutput(dataTable, element);\n",
              "          const docLink = document.createElement('div');\n",
              "          docLink.innerHTML = docLinkHtml;\n",
              "          element.appendChild(docLink);\n",
              "        }\n",
              "      </script>\n",
              "    </div>\n",
              "  </div>\n",
              "  "
            ]
          },
          "metadata": {},
          "execution_count": 16
        }
      ]
    },
    {
      "cell_type": "code",
      "source": [
        "deuda_df.info()"
      ],
      "metadata": {
        "colab": {
          "base_uri": "https://localhost:8080/"
        },
        "id": "n2_J5gYqd0-2",
        "outputId": "3a527a4f-92cc-425f-8170-065345c4a887"
      },
      "execution_count": 17,
      "outputs": [
        {
          "output_type": "stream",
          "name": "stdout",
          "text": [
            "<class 'pandas.core.frame.DataFrame'>\n",
            "RangeIndex: 6560 entries, 0 to 6559\n",
            "Data columns (total 4 columns):\n",
            " #   Column               Non-Null Count  Dtype \n",
            "---  ------               --------------  ----- \n",
            " 0   id_cliente           6560 non-null   int64 \n",
            " 1   mes                  6560 non-null   object\n",
            " 2   diasatraso_findemes  6560 non-null   int64 \n",
            " 3   deuda_findemes       6560 non-null   int64 \n",
            "dtypes: int64(3), object(1)\n",
            "memory usage: 205.1+ KB\n"
          ]
        }
      ]
    },
    {
      "cell_type": "code",
      "source": [
        "deuda_df.isnull().sum()"
      ],
      "metadata": {
        "colab": {
          "base_uri": "https://localhost:8080/"
        },
        "id": "C1j0M8-wd05a",
        "outputId": "205d0648-7599-4b86-bcc0-cd77a46ba193"
      },
      "execution_count": 18,
      "outputs": [
        {
          "output_type": "execute_result",
          "data": {
            "text/plain": [
              "id_cliente             0\n",
              "mes                    0\n",
              "diasatraso_findemes    0\n",
              "deuda_findemes         0\n",
              "dtype: int64"
            ]
          },
          "metadata": {},
          "execution_count": 18
        }
      ]
    },
    {
      "cell_type": "code",
      "source": [
        "deuda_df[deuda_df.isna().any(axis=1)]"
      ],
      "metadata": {
        "colab": {
          "base_uri": "https://localhost:8080/",
          "height": 0
        },
        "id": "2GSTUK9id00o",
        "outputId": "0370833b-7017-4a03-9462-5bfa41ee4459"
      },
      "execution_count": 19,
      "outputs": [
        {
          "output_type": "execute_result",
          "data": {
            "text/plain": [
              "Empty DataFrame\n",
              "Columns: [id_cliente, mes, diasatraso_findemes, deuda_findemes]\n",
              "Index: []"
            ],
            "text/html": [
              "\n",
              "  <div id=\"df-ea2ada9b-645b-4650-b329-b8bc597381fe\">\n",
              "    <div class=\"colab-df-container\">\n",
              "      <div>\n",
              "<style scoped>\n",
              "    .dataframe tbody tr th:only-of-type {\n",
              "        vertical-align: middle;\n",
              "    }\n",
              "\n",
              "    .dataframe tbody tr th {\n",
              "        vertical-align: top;\n",
              "    }\n",
              "\n",
              "    .dataframe thead th {\n",
              "        text-align: right;\n",
              "    }\n",
              "</style>\n",
              "<table border=\"1\" class=\"dataframe\">\n",
              "  <thead>\n",
              "    <tr style=\"text-align: right;\">\n",
              "      <th></th>\n",
              "      <th>id_cliente</th>\n",
              "      <th>mes</th>\n",
              "      <th>diasatraso_findemes</th>\n",
              "      <th>deuda_findemes</th>\n",
              "    </tr>\n",
              "  </thead>\n",
              "  <tbody>\n",
              "  </tbody>\n",
              "</table>\n",
              "</div>\n",
              "      <button class=\"colab-df-convert\" onclick=\"convertToInteractive('df-ea2ada9b-645b-4650-b329-b8bc597381fe')\"\n",
              "              title=\"Convert this dataframe to an interactive table.\"\n",
              "              style=\"display:none;\">\n",
              "        \n",
              "  <svg xmlns=\"http://www.w3.org/2000/svg\" height=\"24px\"viewBox=\"0 0 24 24\"\n",
              "       width=\"24px\">\n",
              "    <path d=\"M0 0h24v24H0V0z\" fill=\"none\"/>\n",
              "    <path d=\"M18.56 5.44l.94 2.06.94-2.06 2.06-.94-2.06-.94-.94-2.06-.94 2.06-2.06.94zm-11 1L8.5 8.5l.94-2.06 2.06-.94-2.06-.94L8.5 2.5l-.94 2.06-2.06.94zm10 10l.94 2.06.94-2.06 2.06-.94-2.06-.94-.94-2.06-.94 2.06-2.06.94z\"/><path d=\"M17.41 7.96l-1.37-1.37c-.4-.4-.92-.59-1.43-.59-.52 0-1.04.2-1.43.59L10.3 9.45l-7.72 7.72c-.78.78-.78 2.05 0 2.83L4 21.41c.39.39.9.59 1.41.59.51 0 1.02-.2 1.41-.59l7.78-7.78 2.81-2.81c.8-.78.8-2.07 0-2.86zM5.41 20L4 18.59l7.72-7.72 1.47 1.35L5.41 20z\"/>\n",
              "  </svg>\n",
              "      </button>\n",
              "      \n",
              "  <style>\n",
              "    .colab-df-container {\n",
              "      display:flex;\n",
              "      flex-wrap:wrap;\n",
              "      gap: 12px;\n",
              "    }\n",
              "\n",
              "    .colab-df-convert {\n",
              "      background-color: #E8F0FE;\n",
              "      border: none;\n",
              "      border-radius: 50%;\n",
              "      cursor: pointer;\n",
              "      display: none;\n",
              "      fill: #1967D2;\n",
              "      height: 32px;\n",
              "      padding: 0 0 0 0;\n",
              "      width: 32px;\n",
              "    }\n",
              "\n",
              "    .colab-df-convert:hover {\n",
              "      background-color: #E2EBFA;\n",
              "      box-shadow: 0px 1px 2px rgba(60, 64, 67, 0.3), 0px 1px 3px 1px rgba(60, 64, 67, 0.15);\n",
              "      fill: #174EA6;\n",
              "    }\n",
              "\n",
              "    [theme=dark] .colab-df-convert {\n",
              "      background-color: #3B4455;\n",
              "      fill: #D2E3FC;\n",
              "    }\n",
              "\n",
              "    [theme=dark] .colab-df-convert:hover {\n",
              "      background-color: #434B5C;\n",
              "      box-shadow: 0px 1px 3px 1px rgba(0, 0, 0, 0.15);\n",
              "      filter: drop-shadow(0px 1px 2px rgba(0, 0, 0, 0.3));\n",
              "      fill: #FFFFFF;\n",
              "    }\n",
              "  </style>\n",
              "\n",
              "      <script>\n",
              "        const buttonEl =\n",
              "          document.querySelector('#df-ea2ada9b-645b-4650-b329-b8bc597381fe button.colab-df-convert');\n",
              "        buttonEl.style.display =\n",
              "          google.colab.kernel.accessAllowed ? 'block' : 'none';\n",
              "\n",
              "        async function convertToInteractive(key) {\n",
              "          const element = document.querySelector('#df-ea2ada9b-645b-4650-b329-b8bc597381fe');\n",
              "          const dataTable =\n",
              "            await google.colab.kernel.invokeFunction('convertToInteractive',\n",
              "                                                     [key], {});\n",
              "          if (!dataTable) return;\n",
              "\n",
              "          const docLinkHtml = 'Like what you see? Visit the ' +\n",
              "            '<a target=\"_blank\" href=https://colab.research.google.com/notebooks/data_table.ipynb>data table notebook</a>'\n",
              "            + ' to learn more about interactive tables.';\n",
              "          element.innerHTML = '';\n",
              "          dataTable['output_type'] = 'display_data';\n",
              "          await google.colab.output.renderOutput(dataTable, element);\n",
              "          const docLink = document.createElement('div');\n",
              "          docLink.innerHTML = docLinkHtml;\n",
              "          element.appendChild(docLink);\n",
              "        }\n",
              "      </script>\n",
              "    </div>\n",
              "  </div>\n",
              "  "
            ]
          },
          "metadata": {},
          "execution_count": 19
        }
      ]
    },
    {
      "cell_type": "markdown",
      "metadata": {
        "id": "1Ht6Zro3oje8"
      },
      "source": [
        "## Transformación de datos"
      ]
    },
    {
      "cell_type": "markdown",
      "source": [
        "### Conversión de tipo de datos"
      ],
      "metadata": {
        "id": "7cf2gDDvOzpE"
      }
    },
    {
      "cell_type": "code",
      "source": [
        "# Convertimos 'mes_alta' str a 'mes_alta_date' datetime\n",
        "clientes_df['mes_alta'] = pd.to_datetime(clientes_df['mes_alta'], format='%Y-%m-%d')\n",
        "clientes_df.rename(columns={'mes_alta': 'mes_alta_date'}, inplace=True)\n",
        "\n",
        "# Convertimos 'mes' str a 'mes_date' datetime\n",
        "transacciones_df['mes'] = pd.to_datetime(transacciones_df['mes'], format='%Y-%m-%d')\n",
        "transacciones_df.rename(columns={'mes': 'mes_date'}, inplace=True)\n",
        "\n",
        "# Convertimos 'mes' str a 'mes_date' datetime\n",
        "limites_y_plazos_df['mes'] = pd.to_datetime(limites_y_plazos_df['mes'], format='%Y-%m-%d')\n",
        "limites_y_plazos_df.rename(columns={'mes': 'mes_date'}, inplace=True)\n",
        "\n",
        "# Convertimos 'mes' str a 'mes_date' datetime\n",
        "deuda_df['mes'] = pd.to_datetime(deuda_df['mes'], format='%Y-%m-%d')\n",
        "deuda_df.rename(columns={'mes': 'mes_date'}, inplace=True)\n",
        "\n",
        "\n",
        "# Convierto 'fecha' str a 'fecha_date' datetime\n",
        "#df_especie['fecha'] = pd.to_datetime(df_especie['fecha'], format='%Y-%m-%d')\n",
        "#df_especie.rename(columns={'fecha': 'fecha_date'}, inplace=True)"
      ],
      "metadata": {
        "id": "pvRliIrTJjVX"
      },
      "execution_count": 20,
      "outputs": []
    },
    {
      "cell_type": "code",
      "source": [
        "clientes_df.info()"
      ],
      "metadata": {
        "colab": {
          "base_uri": "https://localhost:8080/"
        },
        "id": "bJOjbDSJPjHQ",
        "outputId": "36dbeb7a-4bd0-43a5-ad54-2c786d0509d9"
      },
      "execution_count": 21,
      "outputs": [
        {
          "output_type": "stream",
          "name": "stdout",
          "text": [
            "<class 'pandas.core.frame.DataFrame'>\n",
            "RangeIndex: 42995 entries, 0 to 42994\n",
            "Data columns (total 3 columns):\n",
            " #   Column         Non-Null Count  Dtype         \n",
            "---  ------         --------------  -----         \n",
            " 0   id_cliente     42995 non-null  int64         \n",
            " 1   subcanal       42995 non-null  object        \n",
            " 2   mes_alta_date  42995 non-null  datetime64[ns]\n",
            "dtypes: datetime64[ns](1), int64(1), object(1)\n",
            "memory usage: 1007.8+ KB\n"
          ]
        }
      ]
    },
    {
      "cell_type": "code",
      "source": [
        "transacciones_df.info()"
      ],
      "metadata": {
        "colab": {
          "base_uri": "https://localhost:8080/"
        },
        "id": "GM9eIbd5REpi",
        "outputId": "1a872972-93fd-4492-d03e-1d940ba47698"
      },
      "execution_count": 22,
      "outputs": [
        {
          "output_type": "stream",
          "name": "stdout",
          "text": [
            "<class 'pandas.core.frame.DataFrame'>\n",
            "RangeIndex: 945890 entries, 0 to 945889\n",
            "Data columns (total 7 columns):\n",
            " #   Column           Non-Null Count   Dtype         \n",
            "---  ------           --------------   -----         \n",
            " 0   id_cliente       945890 non-null  int64         \n",
            " 1   mes_date         945890 non-null  datetime64[ns]\n",
            " 2   compras_contado  945890 non-null  float64       \n",
            " 3   compras_credito  945890 non-null  float64       \n",
            " 4   compras_total    945890 non-null  float64       \n",
            " 5   n_compras_total  945890 non-null  int64         \n",
            " 6   n_sucursales     945890 non-null  int64         \n",
            "dtypes: datetime64[ns](1), float64(3), int64(3)\n",
            "memory usage: 50.5 MB\n"
          ]
        }
      ]
    },
    {
      "cell_type": "code",
      "source": [
        "limites_y_plazos_df.info()"
      ],
      "metadata": {
        "colab": {
          "base_uri": "https://localhost:8080/"
        },
        "id": "pARHReXZREkO",
        "outputId": "969f0b7e-3021-4b98-84c5-a30acd224d96"
      },
      "execution_count": 23,
      "outputs": [
        {
          "output_type": "stream",
          "name": "stdout",
          "text": [
            "<class 'pandas.core.frame.DataFrame'>\n",
            "RangeIndex: 9663 entries, 0 to 9662\n",
            "Data columns (total 6 columns):\n",
            " #   Column           Non-Null Count  Dtype         \n",
            "---  ------           --------------  -----         \n",
            " 0   id_cliente       9663 non-null   int64         \n",
            " 1   mes_date         9663 non-null   datetime64[ns]\n",
            " 2   limite_maximo    9663 non-null   float64       \n",
            " 3   plazo_maximo     9663 non-null   int64         \n",
            " 4   limite_findemes  9663 non-null   float64       \n",
            " 5   plazo_findemes   9663 non-null   int64         \n",
            "dtypes: datetime64[ns](1), float64(2), int64(3)\n",
            "memory usage: 453.1 KB\n"
          ]
        }
      ]
    },
    {
      "cell_type": "code",
      "source": [
        "deuda_df.info()"
      ],
      "metadata": {
        "colab": {
          "base_uri": "https://localhost:8080/"
        },
        "id": "6fjKoRUMREgG",
        "outputId": "d8745b80-0e58-42c0-fe7d-328d7b21b69a"
      },
      "execution_count": 24,
      "outputs": [
        {
          "output_type": "stream",
          "name": "stdout",
          "text": [
            "<class 'pandas.core.frame.DataFrame'>\n",
            "RangeIndex: 6560 entries, 0 to 6559\n",
            "Data columns (total 4 columns):\n",
            " #   Column               Non-Null Count  Dtype         \n",
            "---  ------               --------------  -----         \n",
            " 0   id_cliente           6560 non-null   int64         \n",
            " 1   mes_date             6560 non-null   datetime64[ns]\n",
            " 2   diasatraso_findemes  6560 non-null   int64         \n",
            " 3   deuda_findemes       6560 non-null   int64         \n",
            "dtypes: datetime64[ns](1), int64(3)\n",
            "memory usage: 205.1 KB\n"
          ]
        }
      ]
    },
    {
      "cell_type": "code",
      "source": [
        ""
      ],
      "metadata": {
        "id": "VKtNMbxJREbs"
      },
      "execution_count": 24,
      "outputs": []
    },
    {
      "cell_type": "markdown",
      "source": [
        "### Análisis de datos duplicados\n",
        "\n",
        "* No se observan registros duplicados en ninguno de los DF."
      ],
      "metadata": {
        "id": "RtKOGJcURaMS"
      }
    },
    {
      "cell_type": "code",
      "source": [
        "len(clientes_df.drop_duplicates()) == len(clientes_df)"
      ],
      "metadata": {
        "colab": {
          "base_uri": "https://localhost:8080/"
        },
        "id": "D4pefbswREVw",
        "outputId": "d2072c47-b0fe-4b44-d48a-1499e81a5453"
      },
      "execution_count": 25,
      "outputs": [
        {
          "output_type": "execute_result",
          "data": {
            "text/plain": [
              "True"
            ]
          },
          "metadata": {},
          "execution_count": 25
        }
      ]
    },
    {
      "cell_type": "code",
      "source": [
        "len(transacciones_df.drop_duplicates()) == len(transacciones_df)"
      ],
      "metadata": {
        "colab": {
          "base_uri": "https://localhost:8080/"
        },
        "id": "kUpFTrM8RglA",
        "outputId": "812db1d1-fa7c-40c2-d16e-ae336208cb07"
      },
      "execution_count": 26,
      "outputs": [
        {
          "output_type": "execute_result",
          "data": {
            "text/plain": [
              "True"
            ]
          },
          "metadata": {},
          "execution_count": 26
        }
      ]
    },
    {
      "cell_type": "code",
      "source": [
        "len(limites_y_plazos_df.drop_duplicates()) == len(limites_y_plazos_df)"
      ],
      "metadata": {
        "colab": {
          "base_uri": "https://localhost:8080/"
        },
        "id": "VOnBkzPXRgh9",
        "outputId": "53e77dd0-5582-4bc5-ff5e-0d3d4ab38fc1"
      },
      "execution_count": 27,
      "outputs": [
        {
          "output_type": "execute_result",
          "data": {
            "text/plain": [
              "True"
            ]
          },
          "metadata": {},
          "execution_count": 27
        }
      ]
    },
    {
      "cell_type": "code",
      "source": [
        "len(deuda_df.drop_duplicates()) == len(deuda_df)"
      ],
      "metadata": {
        "colab": {
          "base_uri": "https://localhost:8080/"
        },
        "id": "KwwIh9y4RgeZ",
        "outputId": "0a42c72a-974b-4be4-cd3e-c3230baa7647"
      },
      "execution_count": 28,
      "outputs": [
        {
          "output_type": "execute_result",
          "data": {
            "text/plain": [
              "True"
            ]
          },
          "metadata": {},
          "execution_count": 28
        }
      ]
    },
    {
      "cell_type": "markdown",
      "source": [
        "### Creación de los DF necesarios para el análisis"
      ],
      "metadata": {
        "id": "AQgG_5vJSjrX"
      }
    },
    {
      "cell_type": "code",
      "source": [
        "print(\"CLIENTES\\n\", clientes_df.head(3), \"\\n\")\n",
        "print(\"TRANSACCIONES\\n\", transacciones_df.head(3), \"\\n\")\n",
        "print(\"LIMS Y PLAZOS\\n\", limites_y_plazos_df.head(3), \"\\n\")\n",
        "print(\"DEUDA\\n\", deuda_df.head(3), \"\\n\")"
      ],
      "metadata": {
        "colab": {
          "base_uri": "https://localhost:8080/"
        },
        "id": "0i3Jq9bbRgWl",
        "outputId": "d6477bff-a9e9-44e1-a481-6972ac2a03c5"
      },
      "execution_count": 29,
      "outputs": [
        {
          "output_type": "stream",
          "name": "stdout",
          "text": [
            "CLIENTES\n",
            "    id_cliente subcanal mes_alta_date\n",
            "0        3823        C    2004-11-01\n",
            "1        5813        C    2004-11-01\n",
            "2        5999        C    2004-11-01 \n",
            "\n",
            "TRANSACCIONES\n",
            "    id_cliente   mes_date  compras_contado  compras_credito  compras_total  \\\n",
            "0        3823 2020-09-01              0.0              0.0            0.0   \n",
            "1        3823 2020-10-01              0.0              0.0            0.0   \n",
            "2        3823 2020-11-01              0.0              0.0            0.0   \n",
            "\n",
            "   n_compras_total  n_sucursales  \n",
            "0                0             0  \n",
            "1                0             0  \n",
            "2                0             0   \n",
            "\n",
            "LIMS Y PLAZOS\n",
            "    id_cliente   mes_date  limite_maximo  plazo_maximo  limite_findemes  \\\n",
            "0        8425 2021-05-01        10000.0            21          10000.0   \n",
            "1        8425 2021-06-01        10000.0            21          10000.0   \n",
            "2        8425 2021-07-01        10000.0            21          10000.0   \n",
            "\n",
            "   plazo_findemes  \n",
            "0              21  \n",
            "1              21  \n",
            "2              21   \n",
            "\n",
            "DEUDA\n",
            "    id_cliente   mes_date  diasatraso_findemes  deuda_findemes\n",
            "0       10231 2020-09-01                   55             475\n",
            "1       10231 2020-10-01                   86             475\n",
            "2       10231 2020-11-01                    0             210 \n",
            "\n"
          ]
        }
      ]
    },
    {
      "cell_type": "code",
      "source": [
        "#pd.merge(left, right, on=['key1', 'key2'], how='left')\n",
        "\n",
        "#df = df_muestra.copy(deep=True)\n",
        "\n",
        "#del df_especie['volumen']\n",
        "#del df_especie['timestamp']\n",
        "\n",
        "\n",
        "df_borr = pd.merge(left=transacciones_df, right=limites_y_plazos_df, on=['id_cliente', 'mes_date'], how='outer')\n",
        "df_nuevo = df_borr.copy(deep=True)\n",
        "df_borr = pd.DataFrame()\n",
        "\n",
        "df_borr = pd.merge(left=clientes_df, right=df_nuevo, on=['id_cliente'], how='outer')\n",
        "\n",
        "df_nuevo = pd.DataFrame()\n",
        "df_nuevo = df_borr.copy(deep=True)\n",
        "df_borr = pd.DataFrame()\n",
        "\n",
        "\n",
        "clientes_info_df = df_nuevo.copy(deep=True)\n",
        "df_nuevo = pd.DataFrame()\n",
        "\n",
        "clientes_info_df.head()"
      ],
      "metadata": {
        "colab": {
          "base_uri": "https://localhost:8080/",
          "height": 206
        },
        "id": "8_0fjpwZ6BnS",
        "outputId": "79d7e4ef-8104-4d98-f1b3-1afd068996f6"
      },
      "execution_count": 30,
      "outputs": [
        {
          "output_type": "execute_result",
          "data": {
            "text/plain": [
              "   id_cliente subcanal mes_alta_date   mes_date  compras_contado  \\\n",
              "0        3823        C    2004-11-01 2020-09-01              0.0   \n",
              "1        3823        C    2004-11-01 2020-10-01              0.0   \n",
              "2        3823        C    2004-11-01 2020-11-01              0.0   \n",
              "3        3823        C    2004-11-01 2020-12-01              0.0   \n",
              "4        3823        C    2004-11-01 2021-01-01              0.0   \n",
              "\n",
              "   compras_credito  compras_total  n_compras_total  n_sucursales  \\\n",
              "0              0.0            0.0                0             0   \n",
              "1              0.0            0.0                0             0   \n",
              "2              0.0            0.0                0             0   \n",
              "3              0.0            0.0                0             0   \n",
              "4              0.0            0.0                0             0   \n",
              "\n",
              "   limite_maximo  plazo_maximo  limite_findemes  plazo_findemes  \n",
              "0            NaN           NaN              NaN             NaN  \n",
              "1            NaN           NaN              NaN             NaN  \n",
              "2            NaN           NaN              NaN             NaN  \n",
              "3            NaN           NaN              NaN             NaN  \n",
              "4            NaN           NaN              NaN             NaN  "
            ],
            "text/html": [
              "\n",
              "  <div id=\"df-cf62c954-406e-44d0-8e7b-ac1e5d9078cc\">\n",
              "    <div class=\"colab-df-container\">\n",
              "      <div>\n",
              "<style scoped>\n",
              "    .dataframe tbody tr th:only-of-type {\n",
              "        vertical-align: middle;\n",
              "    }\n",
              "\n",
              "    .dataframe tbody tr th {\n",
              "        vertical-align: top;\n",
              "    }\n",
              "\n",
              "    .dataframe thead th {\n",
              "        text-align: right;\n",
              "    }\n",
              "</style>\n",
              "<table border=\"1\" class=\"dataframe\">\n",
              "  <thead>\n",
              "    <tr style=\"text-align: right;\">\n",
              "      <th></th>\n",
              "      <th>id_cliente</th>\n",
              "      <th>subcanal</th>\n",
              "      <th>mes_alta_date</th>\n",
              "      <th>mes_date</th>\n",
              "      <th>compras_contado</th>\n",
              "      <th>compras_credito</th>\n",
              "      <th>compras_total</th>\n",
              "      <th>n_compras_total</th>\n",
              "      <th>n_sucursales</th>\n",
              "      <th>limite_maximo</th>\n",
              "      <th>plazo_maximo</th>\n",
              "      <th>limite_findemes</th>\n",
              "      <th>plazo_findemes</th>\n",
              "    </tr>\n",
              "  </thead>\n",
              "  <tbody>\n",
              "    <tr>\n",
              "      <th>0</th>\n",
              "      <td>3823</td>\n",
              "      <td>C</td>\n",
              "      <td>2004-11-01</td>\n",
              "      <td>2020-09-01</td>\n",
              "      <td>0.0</td>\n",
              "      <td>0.0</td>\n",
              "      <td>0.0</td>\n",
              "      <td>0</td>\n",
              "      <td>0</td>\n",
              "      <td>NaN</td>\n",
              "      <td>NaN</td>\n",
              "      <td>NaN</td>\n",
              "      <td>NaN</td>\n",
              "    </tr>\n",
              "    <tr>\n",
              "      <th>1</th>\n",
              "      <td>3823</td>\n",
              "      <td>C</td>\n",
              "      <td>2004-11-01</td>\n",
              "      <td>2020-10-01</td>\n",
              "      <td>0.0</td>\n",
              "      <td>0.0</td>\n",
              "      <td>0.0</td>\n",
              "      <td>0</td>\n",
              "      <td>0</td>\n",
              "      <td>NaN</td>\n",
              "      <td>NaN</td>\n",
              "      <td>NaN</td>\n",
              "      <td>NaN</td>\n",
              "    </tr>\n",
              "    <tr>\n",
              "      <th>2</th>\n",
              "      <td>3823</td>\n",
              "      <td>C</td>\n",
              "      <td>2004-11-01</td>\n",
              "      <td>2020-11-01</td>\n",
              "      <td>0.0</td>\n",
              "      <td>0.0</td>\n",
              "      <td>0.0</td>\n",
              "      <td>0</td>\n",
              "      <td>0</td>\n",
              "      <td>NaN</td>\n",
              "      <td>NaN</td>\n",
              "      <td>NaN</td>\n",
              "      <td>NaN</td>\n",
              "    </tr>\n",
              "    <tr>\n",
              "      <th>3</th>\n",
              "      <td>3823</td>\n",
              "      <td>C</td>\n",
              "      <td>2004-11-01</td>\n",
              "      <td>2020-12-01</td>\n",
              "      <td>0.0</td>\n",
              "      <td>0.0</td>\n",
              "      <td>0.0</td>\n",
              "      <td>0</td>\n",
              "      <td>0</td>\n",
              "      <td>NaN</td>\n",
              "      <td>NaN</td>\n",
              "      <td>NaN</td>\n",
              "      <td>NaN</td>\n",
              "    </tr>\n",
              "    <tr>\n",
              "      <th>4</th>\n",
              "      <td>3823</td>\n",
              "      <td>C</td>\n",
              "      <td>2004-11-01</td>\n",
              "      <td>2021-01-01</td>\n",
              "      <td>0.0</td>\n",
              "      <td>0.0</td>\n",
              "      <td>0.0</td>\n",
              "      <td>0</td>\n",
              "      <td>0</td>\n",
              "      <td>NaN</td>\n",
              "      <td>NaN</td>\n",
              "      <td>NaN</td>\n",
              "      <td>NaN</td>\n",
              "    </tr>\n",
              "  </tbody>\n",
              "</table>\n",
              "</div>\n",
              "      <button class=\"colab-df-convert\" onclick=\"convertToInteractive('df-cf62c954-406e-44d0-8e7b-ac1e5d9078cc')\"\n",
              "              title=\"Convert this dataframe to an interactive table.\"\n",
              "              style=\"display:none;\">\n",
              "        \n",
              "  <svg xmlns=\"http://www.w3.org/2000/svg\" height=\"24px\"viewBox=\"0 0 24 24\"\n",
              "       width=\"24px\">\n",
              "    <path d=\"M0 0h24v24H0V0z\" fill=\"none\"/>\n",
              "    <path d=\"M18.56 5.44l.94 2.06.94-2.06 2.06-.94-2.06-.94-.94-2.06-.94 2.06-2.06.94zm-11 1L8.5 8.5l.94-2.06 2.06-.94-2.06-.94L8.5 2.5l-.94 2.06-2.06.94zm10 10l.94 2.06.94-2.06 2.06-.94-2.06-.94-.94-2.06-.94 2.06-2.06.94z\"/><path d=\"M17.41 7.96l-1.37-1.37c-.4-.4-.92-.59-1.43-.59-.52 0-1.04.2-1.43.59L10.3 9.45l-7.72 7.72c-.78.78-.78 2.05 0 2.83L4 21.41c.39.39.9.59 1.41.59.51 0 1.02-.2 1.41-.59l7.78-7.78 2.81-2.81c.8-.78.8-2.07 0-2.86zM5.41 20L4 18.59l7.72-7.72 1.47 1.35L5.41 20z\"/>\n",
              "  </svg>\n",
              "      </button>\n",
              "      \n",
              "  <style>\n",
              "    .colab-df-container {\n",
              "      display:flex;\n",
              "      flex-wrap:wrap;\n",
              "      gap: 12px;\n",
              "    }\n",
              "\n",
              "    .colab-df-convert {\n",
              "      background-color: #E8F0FE;\n",
              "      border: none;\n",
              "      border-radius: 50%;\n",
              "      cursor: pointer;\n",
              "      display: none;\n",
              "      fill: #1967D2;\n",
              "      height: 32px;\n",
              "      padding: 0 0 0 0;\n",
              "      width: 32px;\n",
              "    }\n",
              "\n",
              "    .colab-df-convert:hover {\n",
              "      background-color: #E2EBFA;\n",
              "      box-shadow: 0px 1px 2px rgba(60, 64, 67, 0.3), 0px 1px 3px 1px rgba(60, 64, 67, 0.15);\n",
              "      fill: #174EA6;\n",
              "    }\n",
              "\n",
              "    [theme=dark] .colab-df-convert {\n",
              "      background-color: #3B4455;\n",
              "      fill: #D2E3FC;\n",
              "    }\n",
              "\n",
              "    [theme=dark] .colab-df-convert:hover {\n",
              "      background-color: #434B5C;\n",
              "      box-shadow: 0px 1px 3px 1px rgba(0, 0, 0, 0.15);\n",
              "      filter: drop-shadow(0px 1px 2px rgba(0, 0, 0, 0.3));\n",
              "      fill: #FFFFFF;\n",
              "    }\n",
              "  </style>\n",
              "\n",
              "      <script>\n",
              "        const buttonEl =\n",
              "          document.querySelector('#df-cf62c954-406e-44d0-8e7b-ac1e5d9078cc button.colab-df-convert');\n",
              "        buttonEl.style.display =\n",
              "          google.colab.kernel.accessAllowed ? 'block' : 'none';\n",
              "\n",
              "        async function convertToInteractive(key) {\n",
              "          const element = document.querySelector('#df-cf62c954-406e-44d0-8e7b-ac1e5d9078cc');\n",
              "          const dataTable =\n",
              "            await google.colab.kernel.invokeFunction('convertToInteractive',\n",
              "                                                     [key], {});\n",
              "          if (!dataTable) return;\n",
              "\n",
              "          const docLinkHtml = 'Like what you see? Visit the ' +\n",
              "            '<a target=\"_blank\" href=https://colab.research.google.com/notebooks/data_table.ipynb>data table notebook</a>'\n",
              "            + ' to learn more about interactive tables.';\n",
              "          element.innerHTML = '';\n",
              "          dataTable['output_type'] = 'display_data';\n",
              "          await google.colab.output.renderOutput(dataTable, element);\n",
              "          const docLink = document.createElement('div');\n",
              "          docLink.innerHTML = docLinkHtml;\n",
              "          element.appendChild(docLink);\n",
              "        }\n",
              "      </script>\n",
              "    </div>\n",
              "  </div>\n",
              "  "
            ]
          },
          "metadata": {},
          "execution_count": 30
        }
      ]
    },
    {
      "cell_type": "code",
      "source": [
        "clientes_info_df.sort_values('mes_date', ascending=False)"
      ],
      "metadata": {
        "colab": {
          "base_uri": "https://localhost:8080/",
          "height": 424
        },
        "id": "SRARpUONG3qv",
        "outputId": "244195e8-f709-40c8-b335-e62409bf3f6a"
      },
      "execution_count": 31,
      "outputs": [
        {
          "output_type": "execute_result",
          "data": {
            "text/plain": [
              "        id_cliente subcanal mes_alta_date   mes_date  compras_contado  \\\n",
              "945889     1980467        C    2007-10-01 2022-06-01              0.0   \n",
              "377123     1359231        C    2017-12-01 2022-06-01              0.0   \n",
              "902241     1715307        C    2019-03-01 2022-06-01              0.0   \n",
              "665697     1642367        C    2018-04-01 2022-06-01              0.0   \n",
              "534445     1393251        C    2018-02-01 2022-06-01              0.0   \n",
              "...            ...      ...           ...        ...              ...   \n",
              "912714     1725805        B    2019-03-01 2020-09-01            243.0   \n",
              "409046     1365467        C    2018-01-01 2020-09-01              0.0   \n",
              "759264     1663883        C    2018-08-01 2020-09-01              0.0   \n",
              "499664     1385765        C    2018-02-01 2020-09-01              0.0   \n",
              "0             3823        C    2004-11-01 2020-09-01              0.0   \n",
              "\n",
              "        compras_credito  compras_total  n_compras_total  n_sucursales  \\\n",
              "945889              0.0            0.0                0             0   \n",
              "377123              0.0            0.0                0             0   \n",
              "902241              0.0            0.0                0             0   \n",
              "665697              0.0            0.0                0             0   \n",
              "534445              0.0            0.0                0             0   \n",
              "...                 ...            ...              ...           ...   \n",
              "912714              0.0          243.0                1             1   \n",
              "409046              0.0            0.0                0             0   \n",
              "759264              0.0            0.0                0             0   \n",
              "499664              0.0            0.0                0             0   \n",
              "0                   0.0            0.0                0             0   \n",
              "\n",
              "        limite_maximo  plazo_maximo  limite_findemes  plazo_findemes  \n",
              "945889           93.0          15.0             93.0            15.0  \n",
              "377123            NaN           NaN              NaN             NaN  \n",
              "902241            NaN           NaN              NaN             NaN  \n",
              "665697            NaN           NaN              NaN             NaN  \n",
              "534445            NaN           NaN              NaN             NaN  \n",
              "...               ...           ...              ...             ...  \n",
              "912714            NaN           NaN              NaN             NaN  \n",
              "409046            NaN           NaN              NaN             NaN  \n",
              "759264            NaN           NaN              NaN             NaN  \n",
              "499664            NaN           NaN              NaN             NaN  \n",
              "0                 NaN           NaN              NaN             NaN  \n",
              "\n",
              "[945890 rows x 13 columns]"
            ],
            "text/html": [
              "\n",
              "  <div id=\"df-55fb15d2-8297-451b-ad44-35677d1a12d9\">\n",
              "    <div class=\"colab-df-container\">\n",
              "      <div>\n",
              "<style scoped>\n",
              "    .dataframe tbody tr th:only-of-type {\n",
              "        vertical-align: middle;\n",
              "    }\n",
              "\n",
              "    .dataframe tbody tr th {\n",
              "        vertical-align: top;\n",
              "    }\n",
              "\n",
              "    .dataframe thead th {\n",
              "        text-align: right;\n",
              "    }\n",
              "</style>\n",
              "<table border=\"1\" class=\"dataframe\">\n",
              "  <thead>\n",
              "    <tr style=\"text-align: right;\">\n",
              "      <th></th>\n",
              "      <th>id_cliente</th>\n",
              "      <th>subcanal</th>\n",
              "      <th>mes_alta_date</th>\n",
              "      <th>mes_date</th>\n",
              "      <th>compras_contado</th>\n",
              "      <th>compras_credito</th>\n",
              "      <th>compras_total</th>\n",
              "      <th>n_compras_total</th>\n",
              "      <th>n_sucursales</th>\n",
              "      <th>limite_maximo</th>\n",
              "      <th>plazo_maximo</th>\n",
              "      <th>limite_findemes</th>\n",
              "      <th>plazo_findemes</th>\n",
              "    </tr>\n",
              "  </thead>\n",
              "  <tbody>\n",
              "    <tr>\n",
              "      <th>945889</th>\n",
              "      <td>1980467</td>\n",
              "      <td>C</td>\n",
              "      <td>2007-10-01</td>\n",
              "      <td>2022-06-01</td>\n",
              "      <td>0.0</td>\n",
              "      <td>0.0</td>\n",
              "      <td>0.0</td>\n",
              "      <td>0</td>\n",
              "      <td>0</td>\n",
              "      <td>93.0</td>\n",
              "      <td>15.0</td>\n",
              "      <td>93.0</td>\n",
              "      <td>15.0</td>\n",
              "    </tr>\n",
              "    <tr>\n",
              "      <th>377123</th>\n",
              "      <td>1359231</td>\n",
              "      <td>C</td>\n",
              "      <td>2017-12-01</td>\n",
              "      <td>2022-06-01</td>\n",
              "      <td>0.0</td>\n",
              "      <td>0.0</td>\n",
              "      <td>0.0</td>\n",
              "      <td>0</td>\n",
              "      <td>0</td>\n",
              "      <td>NaN</td>\n",
              "      <td>NaN</td>\n",
              "      <td>NaN</td>\n",
              "      <td>NaN</td>\n",
              "    </tr>\n",
              "    <tr>\n",
              "      <th>902241</th>\n",
              "      <td>1715307</td>\n",
              "      <td>C</td>\n",
              "      <td>2019-03-01</td>\n",
              "      <td>2022-06-01</td>\n",
              "      <td>0.0</td>\n",
              "      <td>0.0</td>\n",
              "      <td>0.0</td>\n",
              "      <td>0</td>\n",
              "      <td>0</td>\n",
              "      <td>NaN</td>\n",
              "      <td>NaN</td>\n",
              "      <td>NaN</td>\n",
              "      <td>NaN</td>\n",
              "    </tr>\n",
              "    <tr>\n",
              "      <th>665697</th>\n",
              "      <td>1642367</td>\n",
              "      <td>C</td>\n",
              "      <td>2018-04-01</td>\n",
              "      <td>2022-06-01</td>\n",
              "      <td>0.0</td>\n",
              "      <td>0.0</td>\n",
              "      <td>0.0</td>\n",
              "      <td>0</td>\n",
              "      <td>0</td>\n",
              "      <td>NaN</td>\n",
              "      <td>NaN</td>\n",
              "      <td>NaN</td>\n",
              "      <td>NaN</td>\n",
              "    </tr>\n",
              "    <tr>\n",
              "      <th>534445</th>\n",
              "      <td>1393251</td>\n",
              "      <td>C</td>\n",
              "      <td>2018-02-01</td>\n",
              "      <td>2022-06-01</td>\n",
              "      <td>0.0</td>\n",
              "      <td>0.0</td>\n",
              "      <td>0.0</td>\n",
              "      <td>0</td>\n",
              "      <td>0</td>\n",
              "      <td>NaN</td>\n",
              "      <td>NaN</td>\n",
              "      <td>NaN</td>\n",
              "      <td>NaN</td>\n",
              "    </tr>\n",
              "    <tr>\n",
              "      <th>...</th>\n",
              "      <td>...</td>\n",
              "      <td>...</td>\n",
              "      <td>...</td>\n",
              "      <td>...</td>\n",
              "      <td>...</td>\n",
              "      <td>...</td>\n",
              "      <td>...</td>\n",
              "      <td>...</td>\n",
              "      <td>...</td>\n",
              "      <td>...</td>\n",
              "      <td>...</td>\n",
              "      <td>...</td>\n",
              "      <td>...</td>\n",
              "    </tr>\n",
              "    <tr>\n",
              "      <th>912714</th>\n",
              "      <td>1725805</td>\n",
              "      <td>B</td>\n",
              "      <td>2019-03-01</td>\n",
              "      <td>2020-09-01</td>\n",
              "      <td>243.0</td>\n",
              "      <td>0.0</td>\n",
              "      <td>243.0</td>\n",
              "      <td>1</td>\n",
              "      <td>1</td>\n",
              "      <td>NaN</td>\n",
              "      <td>NaN</td>\n",
              "      <td>NaN</td>\n",
              "      <td>NaN</td>\n",
              "    </tr>\n",
              "    <tr>\n",
              "      <th>409046</th>\n",
              "      <td>1365467</td>\n",
              "      <td>C</td>\n",
              "      <td>2018-01-01</td>\n",
              "      <td>2020-09-01</td>\n",
              "      <td>0.0</td>\n",
              "      <td>0.0</td>\n",
              "      <td>0.0</td>\n",
              "      <td>0</td>\n",
              "      <td>0</td>\n",
              "      <td>NaN</td>\n",
              "      <td>NaN</td>\n",
              "      <td>NaN</td>\n",
              "      <td>NaN</td>\n",
              "    </tr>\n",
              "    <tr>\n",
              "      <th>759264</th>\n",
              "      <td>1663883</td>\n",
              "      <td>C</td>\n",
              "      <td>2018-08-01</td>\n",
              "      <td>2020-09-01</td>\n",
              "      <td>0.0</td>\n",
              "      <td>0.0</td>\n",
              "      <td>0.0</td>\n",
              "      <td>0</td>\n",
              "      <td>0</td>\n",
              "      <td>NaN</td>\n",
              "      <td>NaN</td>\n",
              "      <td>NaN</td>\n",
              "      <td>NaN</td>\n",
              "    </tr>\n",
              "    <tr>\n",
              "      <th>499664</th>\n",
              "      <td>1385765</td>\n",
              "      <td>C</td>\n",
              "      <td>2018-02-01</td>\n",
              "      <td>2020-09-01</td>\n",
              "      <td>0.0</td>\n",
              "      <td>0.0</td>\n",
              "      <td>0.0</td>\n",
              "      <td>0</td>\n",
              "      <td>0</td>\n",
              "      <td>NaN</td>\n",
              "      <td>NaN</td>\n",
              "      <td>NaN</td>\n",
              "      <td>NaN</td>\n",
              "    </tr>\n",
              "    <tr>\n",
              "      <th>0</th>\n",
              "      <td>3823</td>\n",
              "      <td>C</td>\n",
              "      <td>2004-11-01</td>\n",
              "      <td>2020-09-01</td>\n",
              "      <td>0.0</td>\n",
              "      <td>0.0</td>\n",
              "      <td>0.0</td>\n",
              "      <td>0</td>\n",
              "      <td>0</td>\n",
              "      <td>NaN</td>\n",
              "      <td>NaN</td>\n",
              "      <td>NaN</td>\n",
              "      <td>NaN</td>\n",
              "    </tr>\n",
              "  </tbody>\n",
              "</table>\n",
              "<p>945890 rows × 13 columns</p>\n",
              "</div>\n",
              "      <button class=\"colab-df-convert\" onclick=\"convertToInteractive('df-55fb15d2-8297-451b-ad44-35677d1a12d9')\"\n",
              "              title=\"Convert this dataframe to an interactive table.\"\n",
              "              style=\"display:none;\">\n",
              "        \n",
              "  <svg xmlns=\"http://www.w3.org/2000/svg\" height=\"24px\"viewBox=\"0 0 24 24\"\n",
              "       width=\"24px\">\n",
              "    <path d=\"M0 0h24v24H0V0z\" fill=\"none\"/>\n",
              "    <path d=\"M18.56 5.44l.94 2.06.94-2.06 2.06-.94-2.06-.94-.94-2.06-.94 2.06-2.06.94zm-11 1L8.5 8.5l.94-2.06 2.06-.94-2.06-.94L8.5 2.5l-.94 2.06-2.06.94zm10 10l.94 2.06.94-2.06 2.06-.94-2.06-.94-.94-2.06-.94 2.06-2.06.94z\"/><path d=\"M17.41 7.96l-1.37-1.37c-.4-.4-.92-.59-1.43-.59-.52 0-1.04.2-1.43.59L10.3 9.45l-7.72 7.72c-.78.78-.78 2.05 0 2.83L4 21.41c.39.39.9.59 1.41.59.51 0 1.02-.2 1.41-.59l7.78-7.78 2.81-2.81c.8-.78.8-2.07 0-2.86zM5.41 20L4 18.59l7.72-7.72 1.47 1.35L5.41 20z\"/>\n",
              "  </svg>\n",
              "      </button>\n",
              "      \n",
              "  <style>\n",
              "    .colab-df-container {\n",
              "      display:flex;\n",
              "      flex-wrap:wrap;\n",
              "      gap: 12px;\n",
              "    }\n",
              "\n",
              "    .colab-df-convert {\n",
              "      background-color: #E8F0FE;\n",
              "      border: none;\n",
              "      border-radius: 50%;\n",
              "      cursor: pointer;\n",
              "      display: none;\n",
              "      fill: #1967D2;\n",
              "      height: 32px;\n",
              "      padding: 0 0 0 0;\n",
              "      width: 32px;\n",
              "    }\n",
              "\n",
              "    .colab-df-convert:hover {\n",
              "      background-color: #E2EBFA;\n",
              "      box-shadow: 0px 1px 2px rgba(60, 64, 67, 0.3), 0px 1px 3px 1px rgba(60, 64, 67, 0.15);\n",
              "      fill: #174EA6;\n",
              "    }\n",
              "\n",
              "    [theme=dark] .colab-df-convert {\n",
              "      background-color: #3B4455;\n",
              "      fill: #D2E3FC;\n",
              "    }\n",
              "\n",
              "    [theme=dark] .colab-df-convert:hover {\n",
              "      background-color: #434B5C;\n",
              "      box-shadow: 0px 1px 3px 1px rgba(0, 0, 0, 0.15);\n",
              "      filter: drop-shadow(0px 1px 2px rgba(0, 0, 0, 0.3));\n",
              "      fill: #FFFFFF;\n",
              "    }\n",
              "  </style>\n",
              "\n",
              "      <script>\n",
              "        const buttonEl =\n",
              "          document.querySelector('#df-55fb15d2-8297-451b-ad44-35677d1a12d9 button.colab-df-convert');\n",
              "        buttonEl.style.display =\n",
              "          google.colab.kernel.accessAllowed ? 'block' : 'none';\n",
              "\n",
              "        async function convertToInteractive(key) {\n",
              "          const element = document.querySelector('#df-55fb15d2-8297-451b-ad44-35677d1a12d9');\n",
              "          const dataTable =\n",
              "            await google.colab.kernel.invokeFunction('convertToInteractive',\n",
              "                                                     [key], {});\n",
              "          if (!dataTable) return;\n",
              "\n",
              "          const docLinkHtml = 'Like what you see? Visit the ' +\n",
              "            '<a target=\"_blank\" href=https://colab.research.google.com/notebooks/data_table.ipynb>data table notebook</a>'\n",
              "            + ' to learn more about interactive tables.';\n",
              "          element.innerHTML = '';\n",
              "          dataTable['output_type'] = 'display_data';\n",
              "          await google.colab.output.renderOutput(dataTable, element);\n",
              "          const docLink = document.createElement('div');\n",
              "          docLink.innerHTML = docLinkHtml;\n",
              "          element.appendChild(docLink);\n",
              "        }\n",
              "      </script>\n",
              "    </div>\n",
              "  </div>\n",
              "  "
            ]
          },
          "metadata": {},
          "execution_count": 31
        }
      ]
    },
    {
      "cell_type": "code",
      "source": [
        "mask = clientes_info_df['compras_total'] < 0\n",
        "clientes_info_df.loc[mask]\n",
        "\n"
      ],
      "metadata": {
        "colab": {
          "base_uri": "https://localhost:8080/",
          "height": 143
        },
        "id": "S7UTkagYFZtr",
        "outputId": "54975ecd-617d-4e8b-ef52-d84529f27ca4"
      },
      "execution_count": 32,
      "outputs": [
        {
          "output_type": "execute_result",
          "data": {
            "text/plain": [
              "        id_cliente subcanal mes_alta_date   mes_date  compras_contado  \\\n",
              "565729     1410633        D    2017-08-01 2022-06-01            -5.50   \n",
              "565795     1562007        D    2017-12-01 2022-06-01          -125.02   \n",
              "565837     1562013        D    2018-01-01 2022-04-01          -886.66   \n",
              "\n",
              "        compras_credito  compras_total  n_compras_total  n_sucursales  \\\n",
              "565729              0.0          -5.50                1             1   \n",
              "565795              0.0        -125.02                1             1   \n",
              "565837              0.0        -886.66                1             1   \n",
              "\n",
              "        limite_maximo  plazo_maximo  limite_findemes  plazo_findemes  \n",
              "565729            NaN           NaN              NaN             NaN  \n",
              "565795            NaN           NaN              NaN             NaN  \n",
              "565837            NaN           NaN              NaN             NaN  "
            ],
            "text/html": [
              "\n",
              "  <div id=\"df-089e0004-5caa-444d-aa81-d697166222f0\">\n",
              "    <div class=\"colab-df-container\">\n",
              "      <div>\n",
              "<style scoped>\n",
              "    .dataframe tbody tr th:only-of-type {\n",
              "        vertical-align: middle;\n",
              "    }\n",
              "\n",
              "    .dataframe tbody tr th {\n",
              "        vertical-align: top;\n",
              "    }\n",
              "\n",
              "    .dataframe thead th {\n",
              "        text-align: right;\n",
              "    }\n",
              "</style>\n",
              "<table border=\"1\" class=\"dataframe\">\n",
              "  <thead>\n",
              "    <tr style=\"text-align: right;\">\n",
              "      <th></th>\n",
              "      <th>id_cliente</th>\n",
              "      <th>subcanal</th>\n",
              "      <th>mes_alta_date</th>\n",
              "      <th>mes_date</th>\n",
              "      <th>compras_contado</th>\n",
              "      <th>compras_credito</th>\n",
              "      <th>compras_total</th>\n",
              "      <th>n_compras_total</th>\n",
              "      <th>n_sucursales</th>\n",
              "      <th>limite_maximo</th>\n",
              "      <th>plazo_maximo</th>\n",
              "      <th>limite_findemes</th>\n",
              "      <th>plazo_findemes</th>\n",
              "    </tr>\n",
              "  </thead>\n",
              "  <tbody>\n",
              "    <tr>\n",
              "      <th>565729</th>\n",
              "      <td>1410633</td>\n",
              "      <td>D</td>\n",
              "      <td>2017-08-01</td>\n",
              "      <td>2022-06-01</td>\n",
              "      <td>-5.50</td>\n",
              "      <td>0.0</td>\n",
              "      <td>-5.50</td>\n",
              "      <td>1</td>\n",
              "      <td>1</td>\n",
              "      <td>NaN</td>\n",
              "      <td>NaN</td>\n",
              "      <td>NaN</td>\n",
              "      <td>NaN</td>\n",
              "    </tr>\n",
              "    <tr>\n",
              "      <th>565795</th>\n",
              "      <td>1562007</td>\n",
              "      <td>D</td>\n",
              "      <td>2017-12-01</td>\n",
              "      <td>2022-06-01</td>\n",
              "      <td>-125.02</td>\n",
              "      <td>0.0</td>\n",
              "      <td>-125.02</td>\n",
              "      <td>1</td>\n",
              "      <td>1</td>\n",
              "      <td>NaN</td>\n",
              "      <td>NaN</td>\n",
              "      <td>NaN</td>\n",
              "      <td>NaN</td>\n",
              "    </tr>\n",
              "    <tr>\n",
              "      <th>565837</th>\n",
              "      <td>1562013</td>\n",
              "      <td>D</td>\n",
              "      <td>2018-01-01</td>\n",
              "      <td>2022-04-01</td>\n",
              "      <td>-886.66</td>\n",
              "      <td>0.0</td>\n",
              "      <td>-886.66</td>\n",
              "      <td>1</td>\n",
              "      <td>1</td>\n",
              "      <td>NaN</td>\n",
              "      <td>NaN</td>\n",
              "      <td>NaN</td>\n",
              "      <td>NaN</td>\n",
              "    </tr>\n",
              "  </tbody>\n",
              "</table>\n",
              "</div>\n",
              "      <button class=\"colab-df-convert\" onclick=\"convertToInteractive('df-089e0004-5caa-444d-aa81-d697166222f0')\"\n",
              "              title=\"Convert this dataframe to an interactive table.\"\n",
              "              style=\"display:none;\">\n",
              "        \n",
              "  <svg xmlns=\"http://www.w3.org/2000/svg\" height=\"24px\"viewBox=\"0 0 24 24\"\n",
              "       width=\"24px\">\n",
              "    <path d=\"M0 0h24v24H0V0z\" fill=\"none\"/>\n",
              "    <path d=\"M18.56 5.44l.94 2.06.94-2.06 2.06-.94-2.06-.94-.94-2.06-.94 2.06-2.06.94zm-11 1L8.5 8.5l.94-2.06 2.06-.94-2.06-.94L8.5 2.5l-.94 2.06-2.06.94zm10 10l.94 2.06.94-2.06 2.06-.94-2.06-.94-.94-2.06-.94 2.06-2.06.94z\"/><path d=\"M17.41 7.96l-1.37-1.37c-.4-.4-.92-.59-1.43-.59-.52 0-1.04.2-1.43.59L10.3 9.45l-7.72 7.72c-.78.78-.78 2.05 0 2.83L4 21.41c.39.39.9.59 1.41.59.51 0 1.02-.2 1.41-.59l7.78-7.78 2.81-2.81c.8-.78.8-2.07 0-2.86zM5.41 20L4 18.59l7.72-7.72 1.47 1.35L5.41 20z\"/>\n",
              "  </svg>\n",
              "      </button>\n",
              "      \n",
              "  <style>\n",
              "    .colab-df-container {\n",
              "      display:flex;\n",
              "      flex-wrap:wrap;\n",
              "      gap: 12px;\n",
              "    }\n",
              "\n",
              "    .colab-df-convert {\n",
              "      background-color: #E8F0FE;\n",
              "      border: none;\n",
              "      border-radius: 50%;\n",
              "      cursor: pointer;\n",
              "      display: none;\n",
              "      fill: #1967D2;\n",
              "      height: 32px;\n",
              "      padding: 0 0 0 0;\n",
              "      width: 32px;\n",
              "    }\n",
              "\n",
              "    .colab-df-convert:hover {\n",
              "      background-color: #E2EBFA;\n",
              "      box-shadow: 0px 1px 2px rgba(60, 64, 67, 0.3), 0px 1px 3px 1px rgba(60, 64, 67, 0.15);\n",
              "      fill: #174EA6;\n",
              "    }\n",
              "\n",
              "    [theme=dark] .colab-df-convert {\n",
              "      background-color: #3B4455;\n",
              "      fill: #D2E3FC;\n",
              "    }\n",
              "\n",
              "    [theme=dark] .colab-df-convert:hover {\n",
              "      background-color: #434B5C;\n",
              "      box-shadow: 0px 1px 3px 1px rgba(0, 0, 0, 0.15);\n",
              "      filter: drop-shadow(0px 1px 2px rgba(0, 0, 0, 0.3));\n",
              "      fill: #FFFFFF;\n",
              "    }\n",
              "  </style>\n",
              "\n",
              "      <script>\n",
              "        const buttonEl =\n",
              "          document.querySelector('#df-089e0004-5caa-444d-aa81-d697166222f0 button.colab-df-convert');\n",
              "        buttonEl.style.display =\n",
              "          google.colab.kernel.accessAllowed ? 'block' : 'none';\n",
              "\n",
              "        async function convertToInteractive(key) {\n",
              "          const element = document.querySelector('#df-089e0004-5caa-444d-aa81-d697166222f0');\n",
              "          const dataTable =\n",
              "            await google.colab.kernel.invokeFunction('convertToInteractive',\n",
              "                                                     [key], {});\n",
              "          if (!dataTable) return;\n",
              "\n",
              "          const docLinkHtml = 'Like what you see? Visit the ' +\n",
              "            '<a target=\"_blank\" href=https://colab.research.google.com/notebooks/data_table.ipynb>data table notebook</a>'\n",
              "            + ' to learn more about interactive tables.';\n",
              "          element.innerHTML = '';\n",
              "          dataTable['output_type'] = 'display_data';\n",
              "          await google.colab.output.renderOutput(dataTable, element);\n",
              "          const docLink = document.createElement('div');\n",
              "          docLink.innerHTML = docLinkHtml;\n",
              "          element.appendChild(docLink);\n",
              "        }\n",
              "      </script>\n",
              "    </div>\n",
              "  </div>\n",
              "  "
            ]
          },
          "metadata": {},
          "execution_count": 32
        }
      ]
    },
    {
      "cell_type": "code",
      "source": [
        ""
      ],
      "metadata": {
        "id": "moVAj1wiCJ78"
      },
      "execution_count": 32,
      "outputs": []
    },
    {
      "cell_type": "code",
      "source": [
        ""
      ],
      "metadata": {
        "id": "fuFylK6_CJoh"
      },
      "execution_count": 32,
      "outputs": []
    },
    {
      "cell_type": "code",
      "source": [
        ""
      ],
      "metadata": {
        "id": "zZYnAaA5CJiX"
      },
      "execution_count": 32,
      "outputs": []
    },
    {
      "cell_type": "code",
      "source": [
        ""
      ],
      "metadata": {
        "id": "p9niGhVdDiNo"
      },
      "execution_count": 32,
      "outputs": []
    },
    {
      "cell_type": "code",
      "source": [
        ""
      ],
      "metadata": {
        "id": "TQdw0BDIDiB3"
      },
      "execution_count": 32,
      "outputs": []
    },
    {
      "cell_type": "code",
      "source": [
        "flights_retrasados.index.size"
      ],
      "metadata": {
        "colab": {
          "base_uri": "https://localhost:8080/",
          "height": 165
        },
        "id": "xWx0X3_SDl6e",
        "outputId": "699c7d3f-8996-4edb-f6f7-7ddae4b7b72d"
      },
      "execution_count": 33,
      "outputs": [
        {
          "output_type": "error",
          "ename": "NameError",
          "evalue": "ignored",
          "traceback": [
            "\u001b[0;31m---------------------------------------------------------------------------\u001b[0m",
            "\u001b[0;31mNameError\u001b[0m                                 Traceback (most recent call last)",
            "\u001b[0;32m<ipython-input-33-47b34d90e64b>\u001b[0m in \u001b[0;36m<module>\u001b[0;34m()\u001b[0m\n\u001b[0;32m----> 1\u001b[0;31m \u001b[0mflights_retrasados\u001b[0m\u001b[0;34m.\u001b[0m\u001b[0mindex\u001b[0m\u001b[0;34m.\u001b[0m\u001b[0msize\u001b[0m\u001b[0;34m\u001b[0m\u001b[0;34m\u001b[0m\u001b[0m\n\u001b[0m",
            "\u001b[0;31mNameError\u001b[0m: name 'flights_retrasados' is not defined"
          ]
        }
      ]
    },
    {
      "cell_type": "code",
      "source": [
        ""
      ],
      "metadata": {
        "id": "z7OqiG5gDl0O"
      },
      "execution_count": null,
      "outputs": []
    },
    {
      "cell_type": "code",
      "source": [
        ""
      ],
      "metadata": {
        "id": "vyAva-ziDltQ"
      },
      "execution_count": null,
      "outputs": []
    },
    {
      "cell_type": "code",
      "source": [
        "mask = transacciones_df['compras_credito'] > transacciones_df['compras_total']\n",
        "transacciones_df.loc[mask]\n"
      ],
      "metadata": {
        "id": "CmZFQqFLwrhW"
      },
      "execution_count": null,
      "outputs": []
    },
    {
      "cell_type": "code",
      "source": [
        ""
      ],
      "metadata": {
        "id": "JEbxq0CaRgTZ"
      },
      "execution_count": null,
      "outputs": []
    },
    {
      "cell_type": "code",
      "source": [
        ""
      ],
      "metadata": {
        "id": "HSEPDPC0vFKS"
      },
      "execution_count": null,
      "outputs": []
    },
    {
      "cell_type": "code",
      "source": [
        ""
      ],
      "metadata": {
        "id": "9FQtyrv6vFG1"
      },
      "execution_count": null,
      "outputs": []
    },
    {
      "cell_type": "code",
      "source": [
        ""
      ],
      "metadata": {
        "id": "V_m0DBi7vFDK"
      },
      "execution_count": null,
      "outputs": []
    },
    {
      "cell_type": "code",
      "source": [
        ""
      ],
      "metadata": {
        "id": "DbTH2fnvvE_w"
      },
      "execution_count": null,
      "outputs": []
    },
    {
      "cell_type": "code",
      "source": [
        ""
      ],
      "metadata": {
        "id": "P9qaSo6EvE6C"
      },
      "execution_count": null,
      "outputs": []
    },
    {
      "cell_type": "code",
      "source": [
        "# Convierto 'fecha' str a 'fecha_date' datetime\n",
        "df_especie['fecha'] = pd.to_datetime(df_especie['fecha'], format='%Y-%m-%d')\n",
        "df_especie.rename(columns={'fecha': 'fecha_date'}, inplace=True)\n",
        "\n",
        "df_especie"
      ],
      "metadata": {
        "id": "bqXusC_ZJjRJ"
      },
      "execution_count": null,
      "outputs": []
    },
    {
      "cell_type": "code",
      "source": [
        ""
      ],
      "metadata": {
        "id": "bh5GlrfCJjNb"
      },
      "execution_count": null,
      "outputs": []
    },
    {
      "cell_type": "code",
      "source": [
        ""
      ],
      "metadata": {
        "id": "7vVEd_EqJjJ2"
      },
      "execution_count": null,
      "outputs": []
    },
    {
      "cell_type": "code",
      "source": [
        ""
      ],
      "metadata": {
        "id": "cUNwFZoJJjCe"
      },
      "execution_count": null,
      "outputs": []
    },
    {
      "cell_type": "markdown",
      "source": [
        "Del DataFrame con los datos de la población elimino columnas que no serán usadas en este estudio."
      ],
      "metadata": {
        "id": "1mh-s9ApbqhU"
      }
    },
    {
      "cell_type": "code",
      "metadata": {
        "id": "3__CVMilodU_"
      },
      "source": [
        "df_especie.drop_duplicates\n",
        "del df_especie['volumen']\n",
        "del df_especie['timestamp']\n",
        "\n",
        "df_especie"
      ],
      "execution_count": null,
      "outputs": []
    },
    {
      "cell_type": "markdown",
      "source": [
        "Verifico la homgeneidad de los tipos de datos."
      ],
      "metadata": {
        "id": "D70yNv6XVYpF"
      }
    },
    {
      "cell_type": "code",
      "source": [
        "df_especie.info()"
      ],
      "metadata": {
        "id": "TkklK_zYVZOv"
      },
      "execution_count": null,
      "outputs": []
    },
    {
      "cell_type": "code",
      "source": [
        "# Convierto 'fecha' str a 'fecha_date' datetime\n",
        "df_especie['fecha'] = pd.to_datetime(df_especie['fecha'], format='%Y-%m-%d')\n",
        "df_especie.rename(columns={'fecha': 'fecha_date'}, inplace=True)\n",
        "\n",
        "df_especie"
      ],
      "metadata": {
        "id": "G8U87LVdV6bR"
      },
      "execution_count": null,
      "outputs": []
    },
    {
      "cell_type": "markdown",
      "source": [
        "Verfico si hay datos erróneos dentro de la serie de datos y los corrijo."
      ],
      "metadata": {
        "id": "H_JMBeFbQ8tm"
      }
    },
    {
      "cell_type": "code",
      "source": [
        "# Visualizo si hay datos erróneos\n",
        "\n",
        "mask = df_especie['maximo'] < df_especie['minimo']\n",
        "df_especie.loc[mask]"
      ],
      "metadata": {
        "id": "txnL1ZPbQ8XR"
      },
      "execution_count": null,
      "outputs": []
    },
    {
      "cell_type": "code",
      "source": [
        "# Corregimos la fila\n",
        "\n",
        "mask = df_especie['maximo'] < df_especie['minimo']\n",
        "indice = df_especie.loc[mask].index\n",
        "\n",
        "min = df_especie['maximo'][indice]\n",
        "max = df_especie['minimo'][indice]\n",
        "df_especie.loc[indice, 'minimo'] = min\n",
        "df_especie.loc[indice, 'maximo'] = max\n",
        "\n",
        "df_especie.iloc[indice, :]"
      ],
      "metadata": {
        "id": "9KU9um8FQ8KQ"
      },
      "execution_count": null,
      "outputs": []
    },
    {
      "cell_type": "markdown",
      "source": [
        "Comenzamos con la transformación de los datos y posterior selección de la muestra a estudiar."
      ],
      "metadata": {
        "id": "gA0l2O4YcKnw"
      }
    },
    {
      "cell_type": "markdown",
      "source": [
        "Decido calcular tanto el **\"rango diario porcentual\"**, el **\"minimo diario porcentual\"** y el **\"maximo diario porcentual\"**, respecto del precio de **\"apertura\"**. \n",
        "\n",
        "La razón es que los fines del presente estudio es generar información que sea de utilidad al **trading intradiario**. Al comienzo de la rueda el **único dato cierto es el precio de apertura**. \n",
        "\n",
        "Tambien es cierto el precio de cierre de la rueda anterior aunque, tomando el precio de cierre anterior, puede generarse información sesgada o no del todo objetiva, ya que pudo haber un gap en la apertura respecto del cierre anterior creando una distorsión en la información que buscamos generar."
      ],
      "metadata": {
        "id": "lqGqXKw6bcGb"
      }
    },
    {
      "cell_type": "code",
      "source": [
        "# Agrego la variacion nominal respecto del cierre anterior.\n",
        "df_especie['var_cierre_nominal'] = (df_especie['cierre'] - df_especie['cierre'].shift())\n",
        "\n",
        "# Agrego la variacion porcentual respecto del cierre anterior.\n",
        "df_especie['var_cierre_porcentual'] = ((df_especie['cierre'] / df_especie['cierre'].shift()) - 1 ) * 100\n",
        "\n",
        "# Agrego el rango nominal = max del dia - min del dia\n",
        "df_especie['rango_diario_nominal'] = df_especie['maximo'] - df_especie['minimo']\n",
        "\n",
        "# Agrego el rango porcentual = (max del dia - min del dia) / apertura\n",
        "df_especie['rango_diario_porcentual'] = ((df_especie['rango_diario_nominal'] / df_especie['apertura']) - 0) * 100\n",
        "\n",
        "# Agrego el rango minimo porcentual = min del dia / apertura\n",
        "df_especie['min_diario_porcentual'] = ((df_especie['minimo'] / df_especie['apertura']) - 1) * 100\n",
        "\n",
        "# Agrego el rango maximo porcentual = max del dia / apertura\n",
        "df_especie['max_diario_porcentual'] = ((df_especie['maximo'] / df_especie['apertura']) - 1) * 100\n",
        "\n",
        "df_especie = df_especie.fillna(0)\n",
        "\n",
        "df_especie"
      ],
      "metadata": {
        "id": "x8yKhot9bciJ"
      },
      "execution_count": null,
      "outputs": []
    },
    {
      "cell_type": "markdown",
      "source": [
        "## **Análisis**"
      ],
      "metadata": {
        "id": "2vs5OQgxZURk"
      }
    },
    {
      "cell_type": "markdown",
      "source": [
        "### Seleccionamos nuestra muestra\n",
        "\n",
        "Seleccionamos el rango de fechas a estudiar, es decir, nuestra muestra.\n",
        "\n",
        "Decido tomar como muestra los datos desde el año 1997, con el fin de abarcar el período final de la Convertibilidad y su posterior crisis económica."
      ],
      "metadata": {
        "id": "x060Yk9m-jwf"
      }
    },
    {
      "cell_type": "code",
      "source": [
        "# Creo un nuevo DF y copio la muestra que seleccionamos con las cotizaciones de un determinado periodo de tiempo. Esta es nuestra muestra.\n",
        "fecha_inicio = FECHA_INICIO_MUESTRA\n",
        "df_muestra = tomar_muestra_df(df_especie, fecha_inicio)\n",
        "df = df_muestra.copy(deep=True)\n",
        "\n",
        "# Reinicio los indices del nuevo DF\n",
        "df = df.reset_index(drop=True)\n",
        "\n",
        "# Agrego un indice \"n\" en la columna 0\n",
        "df.insert(0, 'n', 1, allow_duplicates=False)\n",
        "df['n'] = df['n'].cumsum()\n",
        "\n",
        "df"
      ],
      "metadata": {
        "id": "THm3qZq6-jL3"
      },
      "execution_count": null,
      "outputs": []
    },
    {
      "cell_type": "markdown",
      "source": [
        "### Creamos un nuevo DataFrame de Variaciones Porcentuales y sus correspondientes Acumulados."
      ],
      "metadata": {
        "id": "3EQRv8bUNeuJ"
      }
    },
    {
      "cell_type": "code",
      "source": [
        "# Genero los intervalos para el index\n",
        "intervalos = []\n",
        "min = 0\n",
        "max = 75\n",
        "\n",
        "i = min\n",
        "while i <= max:\n",
        "  intervalos.append(i)\n",
        "  i += 0.5\n",
        "\n",
        "# Convierto los elementos a String\n",
        "intervalos_index = []\n",
        "for elem in intervalos:\n",
        "  intervalos_index.append(str(elem))\n",
        "\n",
        "\n",
        "# Creo el DF\n",
        "df_vars = pd.DataFrame(columns=['n', 'intervalos', 'frecuencia', 'porcentaje', 'porcentaje_acum'])\n",
        "df_vars['intervalos'] = intervalos\n",
        "\n",
        "# Genero el Index\n",
        "df_vars.index = intervalos_index\n",
        "\n",
        "# Genero un indice \"n\" de la columna 0\n",
        "df_vars['n'] = 1\n",
        "df_vars['n'] = df_vars['n'].cumsum()\n",
        "\n",
        "df_vars = df_vars.fillna(0)\n",
        "\n",
        "\n",
        "# Acumulamos el intervalo de variación porcentual intradiaria\n",
        "i=0\n",
        "while i < len(df_vars)-1:\n",
        "  if i == 0:\n",
        "    mask = (df['rango_diario_porcentual'] == df_vars['intervalos'][i])\n",
        "    frecuencia = len(df.loc[mask])\n",
        "    df_vars.iloc[i, 2] = frecuencia\n",
        "  else:   \n",
        "    mask = (df['rango_diario_porcentual'] >= df_vars['intervalos'][i]) & (df['rango_diario_porcentual'] < df_vars['intervalos'][i+1])\n",
        "    frecuencia = len(df.loc[mask])\n",
        "    df_vars.iloc[i+1, 2] = frecuencia  \n",
        "  i += 1\n",
        "\n",
        "\n",
        "df_vars['porcentaje'] = df_vars['frecuencia'] / df_vars['frecuencia'].sum() \n",
        "\n",
        "i=0\n",
        "while i < len(df_vars):\n",
        "  if i == 0:\n",
        "    df_vars.iloc[i, 4] = df_vars['porcentaje'][i]\n",
        "  else:\n",
        "    df_vars.iloc[i, 4] = (df_vars['porcentaje'][i] + df_vars['porcentaje_acum'][i-1])\n",
        "  i += 1\n",
        "\n",
        "\n",
        "df_vars.head(15)"
      ],
      "metadata": {
        "id": "CFpVFp9wNfCW"
      },
      "execution_count": null,
      "outputs": []
    },
    {
      "cell_type": "markdown",
      "metadata": {
        "id": "-oZALeyloq56"
      },
      "source": [
        "## Visualizaciones\n",
        "\n",
        "Trabajamos sobre la muestra tomada de la población de datos, haciendo los análisis necesarios.\n",
        "\n",
        "\n"
      ]
    },
    {
      "cell_type": "markdown",
      "source": [
        "### Distribución de las Variaciones Porcentuales Intradiarias\n",
        "\n",
        "\n",
        "Vamos a visualizar cómo se distribuyen las variaciones porcentuales intradiarias y distintos aspectos estadísticos.\n"
      ],
      "metadata": {
        "id": "PxIgyv58YwNG"
      }
    },
    {
      "cell_type": "code",
      "source": [
        "values = np.array(df['rango_diario_porcentual'])\n",
        "values_sorted = np.sort(values)\n",
        "values_freq = np.array(df_vars['porcentaje'])\n",
        "values_acum = np.array(df_vars['porcentaje_acum'])\n",
        "n = len(values)"
      ],
      "metadata": {
        "id": "SBxqxdY3YJt_"
      },
      "execution_count": null,
      "outputs": []
    },
    {
      "cell_type": "markdown",
      "source": [
        "#### Promedios y Medidas de Dispersión"
      ],
      "metadata": {
        "id": "Bb5clEyFRmd3"
      }
    },
    {
      "cell_type": "markdown",
      "source": [
        "**Media, Mediana y Moda**"
      ],
      "metadata": {
        "id": "UReyCgoBRqhC"
      }
    },
    {
      "cell_type": "code",
      "metadata": {
        "id": "_awIuxWoo-o7"
      },
      "source": [
        "from scipy import stats\n",
        "\n",
        "mu = np.mean(values)\n",
        "mediana = np.median(values_sorted)\n",
        "moda, count = stats.mode(values)\n",
        "\n",
        "print (f'La Media de la muestra es: {mu}\\n')\n",
        "print (f'Los valores ordenados son los siguientes:{values_sorted}.\\nLa Mediana de la muestra es: {mediana}\\n')\n",
        "print (f'Los cantidad de valores analizados son los siguientes: {count}.\\nLa Moda de la muestra es: {moda}')"
      ],
      "execution_count": null,
      "outputs": []
    },
    {
      "cell_type": "markdown",
      "source": [
        "**Varianza y Desviación Estándar**"
      ],
      "metadata": {
        "id": "OLw25RGJH6sS"
      }
    },
    {
      "cell_type": "code",
      "source": [
        "import statistics as st\n",
        "\n",
        "var = st.variance(values)\n",
        "sigma = st.stdev(values)\n",
        "\n",
        "print (f'La Varianza de la muestra es la siguiente: {var}.\\nEl Desvío Estándar de la muestra es: {sigma}')"
      ],
      "metadata": {
        "id": "qSP3Q7liRuSz"
      },
      "execution_count": null,
      "outputs": []
    },
    {
      "cell_type": "markdown",
      "source": [
        "**Volatilidad histórica**\n",
        "\n",
        "Calculamos la Volatilidad Histórica del activo financiero analizado.\n",
        "El número de ruedas a tomar para calcular la V.H. es el indicado en la variable global \"DIAS_V_H\". "
      ],
      "metadata": {
        "id": "7EjbduYpX3mm"
      }
    },
    {
      "cell_type": "code",
      "source": [
        "fecha = '2022-06-23'\n",
        "v_h = volatilidad_historica(DIAS_V_H, fecha)\n",
        "\n",
        "print (f'La Volatilidad Histórica de las últimas {DIAS_V_H} ruedas, a partir del {fecha} es: {v_h}%')"
      ],
      "metadata": {
        "id": "T39diKQ_X-2k"
      },
      "execution_count": null,
      "outputs": []
    },
    {
      "cell_type": "markdown",
      "source": [
        "#### Distribución de ocurrencias"
      ],
      "metadata": {
        "id": "LWMn7R74Zke-"
      }
    },
    {
      "cell_type": "markdown",
      "source": [
        "1) Media y Desvío Estándar"
      ],
      "metadata": {
        "id": "RozeEWj5XLxm"
      }
    },
    {
      "cell_type": "code",
      "source": [
        "mu = np.mean(values)\n",
        "sigma = st.stdev(values)\n",
        "\n",
        "print('La Media de la muestra es:', round(mu, 6), 'puntos porcentuales.')\n",
        "print('El Desvío Estándar de la muestra es:', round(sigma, 6), 'puntos porcentuales.')"
      ],
      "metadata": {
        "id": "LSri2p3DZ7BJ"
      },
      "execution_count": null,
      "outputs": []
    },
    {
      "cell_type": "markdown",
      "source": [
        "2) Variaciones Porcentuales Intradiarias: cálculo y gráficos"
      ],
      "metadata": {
        "id": "EkdFaTHhdSlb"
      }
    },
    {
      "cell_type": "code",
      "source": [
        "import matplotlib.pyplot as plt\n",
        "%matplotlib inline\n",
        "\n",
        "def crear_intervalos(xmin, xmax):\n",
        "  intervalos = []\n",
        "  i = xmin\n",
        "  while i <= xmax:\n",
        "    intervalos.append(i)\n",
        "    i += 0.5\n",
        "  return intervalos\n",
        "\n",
        "\n",
        "def agregar_etiquetas(x_value, y_value, y_label,color):\n",
        "    for i in range(1, len(x_value)+1):\n",
        "        ax.text(i-1, (y_value[i-1]) * 1.02, y_label[i-1], ha=\"center\", va='bottom', color=color, fontdict={'size':11})\n",
        "\n",
        "\n",
        "fig = plt.figure(figsize=(12,10))\n",
        "ax = fig.subplots()\n",
        "\n",
        "xmin = -0.5\n",
        "xmax = 20.5\n",
        "\n",
        "# Creamos el gráfico de barras y sus correspondientes etiquetas\n",
        "ax.bar(df_vars.index, values_freq, width=0.5, color='C0', label=f'Frecuencias abs.')\n",
        "ax.set_xlabel('Variación % intradiaria total', fontdict={'size':14, 'color':'C0'})\n",
        "ax.set_ylabel('Cantidad de ocurrencias cada 100', fontdict={'size':14, 'color':'C0'})\n",
        "\n",
        "ax.axvline(mu*2 + (0), color='r', linestyle='--', label=f'Media: {round(mu, 2)}%')\n",
        "ax.text(mu*2*1.025, 0.13, f'$\\mu$ ={round(mu, 2)}%', fontdict={'size':14, 'color':'r'})\n",
        "\n",
        "x_value = crear_intervalos(0, 10)\n",
        "y_value = values_freq.tolist()[:21]\n",
        "\n",
        "y_label = np.round(values_freq*100, decimals=2).tolist()[:21]\n",
        "for i in range(len(y_label)):\n",
        "  y_label[i] = str(y_label[i]) + '%'\n",
        "\n",
        "agregar_etiquetas(x_value, y_value, y_label, 'C0')\n",
        "\n",
        "\n",
        "# Creamos el gráfico de curva con las variaciones acumuladas\n",
        "ax = ax.twinx()\n",
        "\n",
        "ax.plot(df_vars.index, values_acum, color='C1', marker='o', ms=6, label=f'Frecuencias % acums.')\n",
        "ax.set_ylabel('Cantidad Acumulada de ocurrencias cada 100', fontdict={'size':14, 'color':'r'})\n",
        "\n",
        "x_value = crear_intervalos(0, 10)\n",
        "y_value = values_acum.tolist()[:21]\n",
        "y_label = np.round(values_acum*100, decimals=0).tolist()[:21]\n",
        "for i in range(len(y_label)):\n",
        "  y_label[i] = str(y_label[i]).split('.')[0] + '%'\n",
        "\n",
        "agregar_etiquetas(x_value, y_value, y_label, 'r')\n",
        "\n",
        "\n",
        "plt.xlim(0,10)\n",
        "plt.ylim(0,10)\n",
        "# axis: x0,x1,y0, y1\n",
        "plt.axis([xmin, xmax, 0, 1.03])\n",
        "plt.grid(True)\n",
        "\n",
        "ax.set_title(f\"Frecuencias Abs. % y Frecuencias Acums. % de Variación Total Intradiaria (rango %) \\nrespecto del precio de la acción entre el período {FECHA_INICIO_MUESTRA} y {df['fecha_date'][len(df) - 1].strftime('%Y-%m-%d')}\", fontdict={'size':16})\n",
        "ax.legend(loc=\"upper right\", bbox_to_anchor=(1, 0.9), prop={'size': 11})\n",
        "\n",
        "fig.tight_layout()\n",
        "plt.savefig('plot_1_ggal_vars_intra.jpg', dpi=300)\n",
        "plt.show()"
      ],
      "metadata": {
        "id": "mFgIYYEvYD8l"
      },
      "execution_count": null,
      "outputs": []
    },
    {
      "cell_type": "markdown",
      "metadata": {
        "id": "q7ppUWSYpA7A"
      },
      "source": [
        "# Conclusiones\n",
        "\n",
        "## Rango Porcentual Intradiario Total\n",
        "\n",
        "Basados en que se busca generar información útil para el trading intradiario de acciones y, como podemos ver en la tabla de Frecuencias Acumuladas y el Gráfico a continuación, los datos nos expresan lo siguiente:\n",
        "\n",
        "> 1) La variación porcentual intradiaria total con mayor frecuencia de ocurrencia es 2.5%, respecto del precio de apertura.\n",
        "\n",
        "\n",
        "> 2) El valor de la Media de las distintas variaciones porcentuales intradiarias totales, respecto del precio de apertura, es de 3.68%.\n",
        "\n",
        "> 3) El valor de la Media representa casi el 60% de las variaciones porcentuales intradiarias totales ocurridas en el período de la muestra.\n",
        "\n",
        "\n",
        "<img src=\"https://raw.githubusercontent.com/JonatanSiracusa/Grupo_Financiero_Galicia_Intraday_Percentage_Change/main/plot_1_ggal_vars_intra.jpg\" width=800>\n",
        "\n",
        "\n",
        "## Información útil para el Trader\n",
        "\n",
        "Quienes realizan \"trading intradiario\" necesitan que el precio de las acciones tengan volatilidad. Pero no solo volatilidad, sino también amplitud en los movimientos de precio.\n",
        "\n",
        "Una de las tantas utilidades de las mencionadas conclusiones es visualizar el potencial de la acción analizada para realizar trading intradiario, el cual no es posible percibir a través del valor de la Volatilidad Histórica, ya que ésta última no contempla la amplitud de los movimientos del precio.\n",
        "\n",
        "Como puede observarse en el gráfico y las conclusiones remarcadas, más de un 59% de las variaciones porcentuales que el precio de la acción realiza en una rueda se encuentran en el rango de un 3.68% respecto del precio de apertura, ya sea con tendencia alcista, bajista o lateral.\n",
        "\n",
        "Esto sugiere que la acción de Grupo Financiero Galicia pudiese llegar a ser un instrumento conveniente para realizar trading intradiario, aunque esto queda a total criterio, voluntad y \"talento\" del operador.\n",
        "\n",
        "Por último, se sugiere realizar mayores estudios con el fin de determinar cómo se comporta la variable analizada en los distintos tipos de mercados (alcista, bajista y lateral), y no solo la variacion porcentual intradiaria total, sino también un estudio similar con las variaciones hacia los mínimos y máximos intradiarios, y sus probabilidades.\n",
        "\n"
      ]
    }
  ]
}